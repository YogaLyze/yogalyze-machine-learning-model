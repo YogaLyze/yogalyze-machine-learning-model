{
  "nbformat": 4,
  "nbformat_minor": 0,
  "metadata": {
    "colab": {
      "provenance": []
    },
    "kernelspec": {
      "name": "python3",
      "display_name": "Python 3"
    },
    "language_info": {
      "name": "python"
    }
  },
  "cells": [
    {
      "cell_type": "code",
      "source": [
        "import pandas as pd\n",
        "import os\n",
        "from zipfile import ZipFile\n",
        "from os.path import exists"
      ],
      "metadata": {
        "id": "9VZhf-xBFNxq"
      },
      "execution_count": null,
      "outputs": []
    },
    {
      "cell_type": "code",
      "source": [
        "# mount it\n",
        "from google.colab import drive\n",
        "drive.mount('/content/drive')"
      ],
      "metadata": {
        "id": "UAfAnbSV8j6W",
        "colab": {
          "base_uri": "https://localhost:8080/"
        },
        "outputId": "7d02ae06-08bc-43cb-d77f-39f30b18015e"
      },
      "execution_count": null,
      "outputs": [
        {
          "output_type": "stream",
          "name": "stdout",
          "text": [
            "Mounted at /content/drive\n"
          ]
        }
      ]
    },
    {
      "cell_type": "code",
      "source": [
        "!cp \"/content/drive/MyDrive/Capstone Bangkit/Machine Learning/Yoga-82.zip\" /content"
      ],
      "metadata": {
        "id": "9w2w3kcg9COT"
      },
      "execution_count": null,
      "outputs": []
    },
    {
      "cell_type": "code",
      "source": [
        "with ZipFile(\"Yoga-82.zip\", 'r') as a:\n",
        "  a.extractall()"
      ],
      "metadata": {
        "id": "NK1EBtFZMoie"
      },
      "execution_count": null,
      "outputs": []
    },
    {
      "cell_type": "code",
      "source": [
        "path = \"Yoga-82/yoga_dataset_links\"\n",
        "namelist = os.listdir(path)\n",
        "namelist.sort()\n",
        "namelist.remove(\"desktop.ini\")"
      ],
      "metadata": {
        "id": "jUOu-ltTLLaF"
      },
      "execution_count": null,
      "outputs": []
    },
    {
      "cell_type": "code",
      "source": [
        "!mkdir Yoga"
      ],
      "metadata": {
        "id": "k7zD0d2-kKUD"
      },
      "execution_count": null,
      "outputs": []
    },
    {
      "cell_type": "code",
      "source": [
        "for i in range(len(namelist)):\n",
        "  namefile = namelist[i]\n",
        "  a = pd.read_csv(f\"Yoga-82/yoga_dataset_links/{namefile}\", sep='\\t', header=None)\n",
        "  for j in range(len(a[1])):\n",
        "    link = a[1][j]\n",
        "    nama = a[0][j]\n",
        "    wow = nama.split('/')\n",
        "    wow1 = wow[0]\n",
        "    if not exists(f\"/content/Yoga/{wow1}\"):\n",
        "      !mkdir \"Yoga/$wow1\"\n",
        "    !wget --timeout=5 --tries=2 -O \"Yoga/$nama\" $link"
      ],
      "metadata": {
        "id": "71PSs7sK25pc"
      },
      "execution_count": null,
      "outputs": []
    },
    {
      "cell_type": "code",
      "source": [
        "# Zip Folder\n",
        "!zip -r /content/Yoga.zip /content/Yoga"
      ],
      "metadata": {
        "id": "M0LQTOioKsDl"
      },
      "execution_count": null,
      "outputs": []
    },
    {
      "cell_type": "code",
      "source": [
        "# copy it there\n",
        "!cp Yoga.zip /content/drive/MyDrive"
      ],
      "metadata": {
        "id": "OA6IVpQkzC_q"
      },
      "execution_count": null,
      "outputs": []
    }
  ]
}