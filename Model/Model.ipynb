{
  "cells": [
    {
      "cell_type": "markdown",
      "metadata": {
        "id": "Zd1zE27IPQzS"
      },
      "source": [
        "# Import Library"
      ]
    },
    {
      "cell_type": "code",
      "execution_count": 1,
      "metadata": {
        "id": "fcyREvYqO6_1"
      },
      "outputs": [],
      "source": [
        "import pandas as pd\n",
        "import os\n",
        "import numpy as np\n",
        "from zipfile import ZipFile\n",
        "import csv\n",
        "import string\n",
        "import tensorflow as tf\n",
        "import matplotlib.pyplot as plt\n",
        "from tensorflow.keras.preprocessing.image import ImageDataGenerator, array_to_img\n",
        "from os.path import exists\n",
        "import shutil\n",
        "from PIL import Image\n",
        "import cv2"
      ]
    },
    {
      "cell_type": "code",
      "execution_count": 2,
      "metadata": {
        "colab": {
          "base_uri": "https://localhost:8080/"
        },
        "id": "jAX7S62eP5of",
        "outputId": "a223dcd4-da33-42aa-8c1a-7fdad42f4b11"
      },
      "outputs": [
        {
          "output_type": "stream",
          "name": "stdout",
          "text": [
            "Mounted at /content/drive\n"
          ]
        }
      ],
      "source": [
        "from google.colab import drive\n",
        "drive.mount('/content/drive')"
      ]
    },
    {
      "cell_type": "markdown",
      "metadata": {
        "id": "IPeIj2QHPTG5"
      },
      "source": [
        "# Extract Data"
      ]
    },
    {
      "cell_type": "code",
      "execution_count": 3,
      "metadata": {
        "id": "S1nLKc89QBKH"
      },
      "outputs": [],
      "source": [
        "!cp \"/content/drive/MyDrive/Capstone Bangkit/Machine Learning/Yoga.zip\" /content"
      ]
    },
    {
      "cell_type": "code",
      "execution_count": 4,
      "metadata": {
        "id": "Xmuv7r6HQOJL"
      },
      "outputs": [],
      "source": [
        "with ZipFile(\"Yoga.zip\", 'r') as a:\n",
        "  a.extractall()"
      ]
    },
    {
      "cell_type": "code",
      "execution_count": null,
      "metadata": {
        "id": "a7EiCimKVRQq"
      },
      "outputs": [],
      "source": [
        "# shutil.rmtree('backPain')"
      ]
    },
    {
      "cell_type": "code",
      "execution_count": 5,
      "metadata": {
        "colab": {
          "base_uri": "https://localhost:8080/"
        },
        "id": "Zvt2BKQiWaa7",
        "outputId": "9cf47d15-2c2d-4fa1-b77b-9e2809959507"
      },
      "outputs": [
        {
          "output_type": "stream",
          "name": "stderr",
          "text": [
            "/usr/local/lib/python3.10/dist-packages/PIL/TiffImagePlugin.py:819: UserWarning: Truncated File Read\n",
            "  warnings.warn(str(msg))\n"
          ]
        },
        {
          "output_type": "stream",
          "name": "stdout",
          "text": [
            "8202 Images are removed\n"
          ]
        }
      ],
      "source": [
        "PATH1 = \"content/Yoga/\"\n",
        "FILE1 = os.listdir(PATH1)\n",
        "a = 0\n",
        "for i in FILE1:\n",
        "  FILE2 = PATH1 + i + '/'\n",
        "  for file_name in os.listdir(FILE2):\n",
        "    file_path = FILE2 + file_name\n",
        "    if file_name.endswith('.jpg'):\n",
        "      try:\n",
        "        img = Image.open(file_path) # open the image file\n",
        "        img.verify() # verify that it is, in fact an image\n",
        "      except (IOError, SyntaxError) as e:\n",
        "        os.remove(file_path)\n",
        "        a+=1\n",
        "print(a,\"Images are removed\")"
      ]
    },
    {
      "cell_type": "code",
      "execution_count": null,
      "metadata": {
        "colab": {
          "base_uri": "https://localhost:8080/"
        },
        "id": "KEQqPxawaHfr",
        "outputId": "5a5323e5-c920-4eac-f5e9-d998878ce40f"
      },
      "outputs": [
        {
          "output_type": "stream",
          "name": "stdout",
          "text": [
            "19547 Image are reshaped\n"
          ]
        }
      ],
      "source": [
        "# PATH1 = \"content/Yoga/\"\n",
        "# FILE1 = os.listdir(PATH1)\n",
        "# a = 0\n",
        "# for i in FILE1:\n",
        "#   FILE2 = PATH1 + i + '/'\n",
        "#   for file_name in os.listdir(FILE2):\n",
        "#     file_path = FILE2 + file_name\n",
        "#     img = cv2.imread(file_path)\n",
        "#     # resize image by specifying custom width and height\n",
        "#     try:\n",
        "#       resized = cv2.resize(img, (300, 300))\n",
        "#       cv2.imwrite(file_path, resized)\n",
        "#       a+=1\n",
        "#     except:\n",
        "#       continue\n",
        "# print(a,\"Image are reshaped\")"
      ]
    },
    {
      "cell_type": "code",
      "execution_count": null,
      "metadata": {
        "id": "3jpdYo81R7Na"
      },
      "outputs": [],
      "source": [
        "import random\n",
        "def split_data(SOURCE_DIR, TRAINING_DIR, VALIDATION_DIR, SPLIT_SIZE):\n",
        "  all_files = []\n",
        "    \n",
        "  for file_name in os.listdir(SOURCE_DIR):\n",
        "      file_path = SOURCE_DIR + file_name\n",
        "\n",
        "      if os.path.getsize(file_path):\n",
        "          all_files.append(file_name)\n",
        "  \n",
        "  n_files = len(all_files)\n",
        "  split_point = int(n_files * SPLIT_SIZE)\n",
        "  \n",
        "  shuffled = random.sample(all_files, n_files)\n",
        "  \n",
        "  train_set = shuffled[:split_point]\n",
        "  test_set = shuffled[split_point:]\n",
        "  \n",
        "  for file_name in train_set:\n",
        "      shutil.copy2(SOURCE_DIR + file_name, TRAINING_DIR + file_name)\n",
        "      \n",
        "  for file_name in test_set:\n",
        "      shutil.copy2(SOURCE_DIR + file_name, VALIDATION_DIR + file_name)"
      ]
    },
    {
      "cell_type": "code",
      "execution_count": null,
      "metadata": {
        "id": "g1MWq30Q1AAO"
      },
      "outputs": [],
      "source": [
        "def rgb_to_gray(image):\n",
        "    image = tf.image.rgb_to_grayscale(image)\n",
        "    image = tf.image.grayscale_to_rgb(image)\n",
        "    return image"
      ]
    },
    {
      "cell_type": "code",
      "execution_count": null,
      "metadata": {
        "id": "yLx3FSYxTFJ2"
      },
      "outputs": [],
      "source": [
        "def train_val_generators(TRAINING_DIR, VALIDATION_DIR):\n",
        "  \"\"\"\n",
        "  Creates the training and validation data generators\n",
        "  \n",
        "  Args:\n",
        "    TRAINING_DIR (string): directory path containing the training images\n",
        "    VALIDATION_DIR (string): directory path containing the testing/validation images\n",
        "    \n",
        "  Returns:\n",
        "    train_generator, validation_generator - tuple containing the generators\n",
        "  \"\"\"\n",
        "  ### START CODE HERE\n",
        "\n",
        "  # Instantiate the ImageDataGenerator class (don't forget to set the arguments to augment the images)\n",
        "  train_datagen = ImageDataGenerator(rescale=1.0/255,\n",
        "                                     preprocessing_function=rgb_to_gray,\n",
        "                                     rotation_range=20,\n",
        "                                     width_shift_range=0.2,\n",
        "                                     height_shift_range=0.2,\n",
        "                                    #  shear_range=0.2,\n",
        "                                     zoom_range=0.2,\n",
        "                                     horizontal_flip=True,\n",
        "                                    #  fill_mode='nearest'\n",
        "                                     )\n",
        "\n",
        "  # Pass in the appropriate arguments to the flow_from_directory method\n",
        "  train_generator = train_datagen.flow_from_directory(directory=TRAINING_DIR,\n",
        "                                                      batch_size=50,\n",
        "                                                      class_mode='categorical',\n",
        "                                                      target_size=(224, 224))\n",
        "\n",
        "  # Instantiate the ImageDataGenerator class (don't forget to set the rescale argument)\n",
        "  validation_datagen = ImageDataGenerator(rescale=1.0/255,\n",
        "                                          # preprocessing_function=rgb_to_gray,\n",
        "                                          # rotation_range=40,\n",
        "                                          # width_shift_range=0.2,\n",
        "                                          # height_shift_range=0.2,\n",
        "                                          # shear_range=0.2,\n",
        "                                          # zoom_range=0.2,\n",
        "                                          # horizontal_flip=True,\n",
        "                                          # fill_mode='nearest'\n",
        "                                          )\n",
        "\n",
        "  # Pass in the appropriate arguments to the flow_from_directory method\n",
        "  validation_generator = validation_datagen.flow_from_directory(directory=VALIDATION_DIR,\n",
        "                                                                batch_size=50,\n",
        "                                                                class_mode='categorical',\n",
        "                                                                target_size=(224, 224))\n",
        "  ### END CODE HERE\n",
        "  return train_generator, validation_generator"
      ]
    },
    {
      "cell_type": "code",
      "execution_count": 6,
      "metadata": {
        "id": "7_nGSPIkbyfd"
      },
      "outputs": [],
      "source": [
        "!rm -rf `find -type d -name .ipynb_checkpoints`"
      ]
    },
    {
      "cell_type": "code",
      "execution_count": null,
      "metadata": {
        "colab": {
          "base_uri": "https://localhost:8080/"
        },
        "id": "oq_CqIPJh-N8",
        "outputId": "5ce4e1f7-ab96-4b0b-f76e-df01f85d5f67"
      },
      "outputs": [
        {
          "output_type": "stream",
          "name": "stdout",
          "text": [
            "Bound_Angle_Pose_or_Baddha_Konasana_ has 283 images\n",
            "Seated_Forward_Bend_pose_or_Paschimottanasana_ has 360 images\n",
            "Revolved_Head-to-Knee_Pose_or_Parivrtta_Janu_Sirsasana_ has 225 images\n",
            "Virasana_or_Vajrasana has 352 images\n",
            "Downward-Facing_Dog_pose_or_Adho_Mukha_Svanasana_ has 315 images\n",
            "Plow_Pose_or_Halasana_ has 329 images\n",
            "Fish_Pose_or_Matsyasana_ has 305 images\n",
            "Supported_Headstand_pose_or_Salamba_Sirsasana_ has 312 images\n",
            "Feathered_Peacock_Pose_or_Pincha_Mayurasana_ has 219 images\n",
            "Corpse_Pose_or_Savasana_ has 336 images\n",
            "Child_Pose_or_Balasana_ has 318 images\n",
            "Standing_Forward_Bend_pose_or_Uttanasana_ has 407 images\n",
            "Crane_(Crow)_Pose_or_Bakasana_ has 314 images\n",
            "Bow_Pose_or_Dhanurasana_ has 239 images\n",
            "Scorpion_pose_or_vrischikasana has 237 images\n",
            "Four-Limbed_Staff_Pose_or_Chaturanga_Dandasana_ has 229 images\n",
            "Supta_Virasana_Vajrasana has 324 images\n",
            "Rajakapotasana has 274 images\n",
            "Cobra_Pose_or_Bhujangasana_ has 830 images\n",
            "Warrior_II_Pose_or_Virabhadrasana_II_ has 268 images\n",
            "Boat_Pose_or_Paripurna_Navasana_ has 405 images\n",
            "Supported_Shoulderstand_pose_or_Salamba_Sarvangasana_ has 274 images\n",
            "Garland_Pose_or_Malasana_ has 248 images\n",
            "Cat_Cow_Pose_or_Marjaryasana_ has 413 images\n",
            "Wide-Legged_Forward_Bend_pose_or_Prasarita_Padottanasana_ has 279 images\n",
            "Tree_Pose_or_Vrksasana_ has 266 images\n",
            "Lord_of_the_Dance_Pose_or_Natarajasana_ has 406 images\n",
            "Half_Lord_of_the_Fishes_Pose_or_Ardha_Matsyendrasana_ has 322 images\n",
            "Chair_Pose_or_Utkatasana_ has 331 images\n",
            "Half_Moon_Pose_or_Ardha_Chandrasana_ has 274 images\n",
            "Upward_Bow_(Wheel)_Pose_or_Urdhva_Dhanurasana_ has 318 images\n",
            "Camel_Pose_or_Ustrasana_ has 328 images\n",
            "Extended_Revolved_Side_Angle_Pose_or_Utthita_Parsvakonasana_ has 546 images\n",
            "Eagle_Pose_or_Garudasana_ has 297 images\n",
            "Sitting pose 1 (normal) has 701 images\n",
            "Extended_Revolved_Triangle_Pose_or_Utthita_Trikonasana_ has 542 images\n",
            "Side_Plank_Pose_or_Vasisthasana_ has 302 images\n",
            "Legs-Up-the-Wall_Pose_or_Viparita_Karani_ has 245 images\n",
            "Supta_Baddha_Konasana_ has 337 images\n",
            "Bridge_Pose_or_Setu_Bandha_Sarvangasana_ has 281 images\n",
            "Locust_Pose_or_Salabhasana_ has 241 images\n",
            "Low_Lunge_pose_or_Anjaneyasana_ has 261 images\n",
            "Upward_Plank_Pose_or_Purvottanasana_ has 230 images\n",
            "Cow_Face_Pose_or_Gomukhasana_ has 315 images\n"
          ]
        }
      ],
      "source": [
        "PATH1 = \"content/Yoga/\"\n",
        "FILE1 = os.listdir(PATH1)\n",
        "for i in FILE1:\n",
        "  a = 0\n",
        "  FILE2 = PATH1 + i + '/'\n",
        "  for file_name in os.listdir(FILE2):\n",
        "    a+=1\n",
        "  if a>=200:\n",
        "    print(i,\"has\",a,\"images\")"
      ]
    },
    {
      "cell_type": "markdown",
      "metadata": {
        "id": "1hXTqWIqk4QW"
      },
      "source": [
        "Backpain: https://www.healthline.com/health/fitness-exercise/yoga-for-back-pain\n",
        "- Downward-Facing Dog: 315\n",
        "- Cobra Pose: 830\n",
        "- Bridge Pose: 281\n",
        "- Child Pose: 318\n",
        "- Locust_Pose: 241\n",
        "\n",
        "  Total: 2398\n",
        "\n",
        "Anxiety: https://www.healthline.com/health/anxiety/yoga-for-anxiety \n",
        "- Tree Pose: 266\n",
        "- Triangle Pose: 542\n",
        "- Standing Forward Bend: 407\n",
        "- Fish Pose: 305\n",
        "- Child Pose: 381\n",
        "\n",
        "  Total: 2126\n",
        "\n",
        "Flexibility: https://www.healthline.com/health/exercise-fitness/yoga-for-flexibility \n",
        "- Plow Pose: 329\n",
        "- Catcow: 413\n",
        "- Bow Pose: 239\n",
        "- Low lunge: 261\n",
        "- Cow Face Pose: 315\n",
        "\n",
        "  Total: 1782\n",
        "\n",
        "Neck Pain: https://www.healthline.com/health/yoga-for-neck-pain\n",
        "- Standing_Forward_Bend: 407\n",
        "- Warrior_II: 268\n",
        "- Triangle Pose: 542\n",
        "- Cow Face Pose: 315\n",
        "- Corpse_Pose: 336\n",
        "\n",
        "  Total: 2281\n"
      ]
    },
    {
      "cell_type": "markdown",
      "source": [
        "#All"
      ],
      "metadata": {
        "id": "mr_Ieq1DFjXj"
      }
    },
    {
      "cell_type": "code",
      "source": [
        "def train_val_generators(TRAINING_DIR, VALIDATION_DIR):\n",
        "  \"\"\"\n",
        "  Creates the training and validation data generators\n",
        "  \n",
        "  Args:\n",
        "    TRAINING_DIR (string): directory path containing the training images\n",
        "    VALIDATION_DIR (string): directory path containing the testing/validation images\n",
        "    \n",
        "  Returns:\n",
        "    train_generator, validation_generator - tuple containing the generators\n",
        "  \"\"\"\n",
        "  ### START CODE HERE\n",
        "\n",
        "  # Instantiate the ImageDataGenerator class (don't forget to set the arguments to augment the images)\n",
        "  train_datagen = ImageDataGenerator(rescale=1.0/255,\n",
        "                                     preprocessing_function=rgb_to_gray,\n",
        "                                     rotation_range=20,\n",
        "                                     width_shift_range=0.2,\n",
        "                                     height_shift_range=0.2,\n",
        "                                    #  shear_range=0.2,\n",
        "                                     zoom_range=0.2,\n",
        "                                     horizontal_flip=True,\n",
        "                                    #  fill_mode='nearest'\n",
        "                                     )\n",
        "\n",
        "  # Pass in the appropriate arguments to the flow_from_directory method\n",
        "  train_generator = train_datagen.flow_from_directory(directory=TRAINING_DIR,\n",
        "                                                      batch_size=80,\n",
        "                                                      class_mode='categorical',\n",
        "                                                      target_size=(150, 150))\n",
        "\n",
        "  # Instantiate the ImageDataGenerator class (don't forget to set the rescale argument)\n",
        "  validation_datagen = ImageDataGenerator(rescale=1.0/255,\n",
        "                                          # preprocessing_function=rgb_to_gray,\n",
        "                                          # rotation_range=40,\n",
        "                                          # width_shift_range=0.2,\n",
        "                                          # height_shift_range=0.2,\n",
        "                                          # shear_range=0.2,\n",
        "                                          # zoom_range=0.2,\n",
        "                                          # horizontal_flip=True,\n",
        "                                          # fill_mode='nearest'\n",
        "                                          )\n",
        "\n",
        "  # Pass in the appropriate arguments to the flow_from_directory method\n",
        "  validation_generator = validation_datagen.flow_from_directory(directory=VALIDATION_DIR,\n",
        "                                                                batch_size=80,\n",
        "                                                                class_mode='categorical',\n",
        "                                                                target_size=(150, 150))\n",
        "  ### END CODE HERE\n",
        "  return train_generator, validation_generator"
      ],
      "metadata": {
        "id": "RyQ2I5w0xuJU"
      },
      "execution_count": null,
      "outputs": []
    },
    {
      "cell_type": "code",
      "source": [
        "all = ['Bow_Pose_or_Dhanurasana_',\n",
        "       'Bridge_Pose_or_Setu_Bandha_Sarvangasana_',\n",
        "       'Child_Pose_or_Balasana_',\n",
        "       'Cobra_Pose_or_Bhujangasana_', 'Corpse_Pose_or_Savasana_',\n",
        "       'Cow_Face_Pose_or_Gomukhasana_',\n",
        "       'Downward-Facing_Dog_pose_or_Adho_Mukha_Svanasana_',\n",
        "       'Extended_Revolved_Triangle_Pose_or_Utthita_Trikonasana_',\n",
        "       'Fish_Pose_or_Matsyasana_', 'Locust_Pose_or_Salabhasana_',\n",
        "       'Low_Lunge_pose_or_Anjaneyasana_', 'Plow_Pose_or_Halasana_',\n",
        "       'Standing_Forward_Bend_pose_or_Uttanasana_',\n",
        "       'Tree_Pose_or_Vrksasana_', 'Warrior_II_Pose_or_Virabhadrasana_II_']"
      ],
      "metadata": {
        "id": "i5O-01A8Hm5l"
      },
      "execution_count": 7,
      "outputs": []
    },
    {
      "cell_type": "code",
      "execution_count": 8,
      "metadata": {
        "id": "zirrj3RKFjX1"
      },
      "outputs": [],
      "source": [
        "!mkdir all"
      ]
    },
    {
      "cell_type": "code",
      "execution_count": 9,
      "metadata": {
        "id": "-mRB_8i4FjX2"
      },
      "outputs": [],
      "source": [
        "for i in range(len(all)):\n",
        "  src = f\"content/Yoga/{all[i]}\"\n",
        "  dst = f\"all/data/{all[i]}\"\n",
        "  shutil.copytree(src, dst)"
      ]
    },
    {
      "cell_type": "code",
      "execution_count": null,
      "metadata": {
        "id": "jQBSTWjNFjX2"
      },
      "outputs": [],
      "source": [
        "!mkdir all/training"
      ]
    },
    {
      "cell_type": "code",
      "execution_count": null,
      "metadata": {
        "id": "wsz9KOAbFjX3"
      },
      "outputs": [],
      "source": [
        "!mkdir all/validation"
      ]
    },
    {
      "cell_type": "code",
      "execution_count": null,
      "metadata": {
        "id": "WJk4q8ARFjX3"
      },
      "outputs": [],
      "source": [
        "for i in range(15):\n",
        "  !mkdir all/training/$i\n",
        "  !mkdir all/validation/$i"
      ]
    },
    {
      "cell_type": "code",
      "execution_count": null,
      "metadata": {
        "id": "xGYGdpabFjX4"
      },
      "outputs": [],
      "source": [
        "for i in range(15):\n",
        "  source = f\"/content/all/data/{all[i]}/\"\n",
        "  train = f\"/content/all/training/{i}/\"\n",
        "  valid = f\"/content/all/validation/{i}/\"\n",
        "  split = 0.9\n",
        "  split_data(source, train, valid, split)"
      ]
    },
    {
      "cell_type": "code",
      "execution_count": null,
      "metadata": {
        "colab": {
          "base_uri": "https://localhost:8080/"
        },
        "outputId": "ad7a2456-ee54-4952-94ae-5ae1745ccd11",
        "id": "VtFh1h6tFjX5"
      },
      "outputs": [
        {
          "output_type": "stream",
          "name": "stdout",
          "text": [
            "Found 4721 images belonging to 15 classes.\n",
            "Found 532 images belonging to 15 classes.\n"
          ]
        }
      ],
      "source": [
        "TRAINING_DIR = \"all/training\"\n",
        "VALIDATION_DIR = \"all/validation\"\n",
        "train_generator, validation_generator = train_val_generators(TRAINING_DIR, VALIDATION_DIR)"
      ]
    },
    {
      "cell_type": "code",
      "execution_count": null,
      "metadata": {
        "id": "q-UxMVdnFjX6",
        "colab": {
          "base_uri": "https://localhost:8080/"
        },
        "outputId": "0e8f3e67-9368-4f15-c02a-bbc144aa3a78"
      },
      "outputs": [
        {
          "output_type": "stream",
          "name": "stdout",
          "text": [
            "Downloading data from https://storage.googleapis.com/tensorflow/keras-applications/vgg19/vgg19_weights_tf_dim_ordering_tf_kernels_notop.h5\n",
            "80134624/80134624 [==============================] - 5s 0us/step\n",
            "Model: \"sequential\"\n",
            "_________________________________________________________________\n",
            " Layer (type)                Output Shape              Param #   \n",
            "=================================================================\n",
            " vgg19 (Functional)          (None, 4, 4, 512)         20024384  \n",
            "                                                                 \n",
            " flatten (Flatten)           (None, 8192)              0         \n",
            "                                                                 \n",
            " dense (Dense)               (None, 15)                122895    \n",
            "                                                                 \n",
            "=================================================================\n",
            "Total params: 20,147,279\n",
            "Trainable params: 20,147,279\n",
            "Non-trainable params: 0\n",
            "_________________________________________________________________\n"
          ]
        }
      ],
      "source": [
        "from tensorflow.keras.applications import VGG16, InceptionResNetV2 , VGG19\n",
        "model3 = tf.keras.Sequential()\n",
        "model3.add(VGG19(include_top = False,weights = 'imagenet',input_shape= (150,150,3)))\n",
        "model3.add(tf.keras.layers.Flatten())\n",
        "model3.add(tf.keras.layers.Dense(15,activation = 'softmax'))\n",
        "model3.summary()"
      ]
    },
    {
      "cell_type": "code",
      "source": [
        "from tensorflow.keras.optimizers import Adam\n",
        "optimizer = Adam(learning_rate = 0.0001)\n",
        "model3.compile(loss = tf.keras.losses.CategoricalCrossentropy(from_logits=True),optimizer = optimizer,metrics = ['accuracy'])"
      ],
      "metadata": {
        "id": "2t6HdBOPotZ2"
      },
      "execution_count": null,
      "outputs": []
    },
    {
      "cell_type": "code",
      "execution_count": null,
      "metadata": {
        "colab": {
          "base_uri": "https://localhost:8080/"
        },
        "outputId": "fdc66695-9eed-4aa1-fd61-1bd057c82b3e",
        "id": "uru4XIUZFjX7"
      },
      "outputs": [
        {
          "output_type": "stream",
          "name": "stderr",
          "text": [
            "/usr/local/lib/python3.10/dist-packages/PIL/Image.py:975: UserWarning: Palette images with Transparency expressed in bytes should be converted to RGBA images\n",
            "  warnings.warn(\n"
          ]
        },
        {
          "output_type": "stream",
          "name": "stdout",
          "text": [
            "Epoch 1/30\n"
          ]
        },
        {
          "output_type": "stream",
          "name": "stderr",
          "text": [
            "/usr/local/lib/python3.10/dist-packages/keras/backend.py:5561: UserWarning: \"`categorical_crossentropy` received `from_logits=True`, but the `output` argument was produced by a Softmax activation and thus does not represent logits. Was this intended?\n",
            "  output, from_logits = _get_logits(\n"
          ]
        },
        {
          "output_type": "stream",
          "name": "stdout",
          "text": [
            "60/60 [==============================] - 170s 2s/step - loss: 2.4766 - accuracy: 0.2141 - val_loss: 2.3535 - val_accuracy: 0.3195\n",
            "Epoch 2/30\n",
            "60/60 [==============================] - 138s 2s/step - loss: 2.2538 - accuracy: 0.2851 - val_loss: 1.5562 - val_accuracy: 0.4944\n",
            "Epoch 3/30\n",
            "60/60 [==============================] - 143s 2s/step - loss: 1.6553 - accuracy: 0.4694 - val_loss: 1.1013 - val_accuracy: 0.6429\n",
            "Epoch 4/30\n",
            "60/60 [==============================] - 139s 2s/step - loss: 1.2073 - accuracy: 0.6177 - val_loss: 0.8051 - val_accuracy: 0.7444\n",
            "Epoch 5/30\n",
            "60/60 [==============================] - 140s 2s/step - loss: 1.0798 - accuracy: 0.6662 - val_loss: 0.5537 - val_accuracy: 0.8383\n",
            "Epoch 6/30\n",
            "60/60 [==============================] - 141s 2s/step - loss: 0.7992 - accuracy: 0.7416 - val_loss: 0.4719 - val_accuracy: 0.8553\n",
            "Epoch 7/30\n",
            "60/60 [==============================] - 137s 2s/step - loss: 0.6523 - accuracy: 0.7971 - val_loss: 0.3799 - val_accuracy: 0.8741\n",
            "Epoch 8/30\n",
            "60/60 [==============================] - 139s 2s/step - loss: 0.6246 - accuracy: 0.8032 - val_loss: 0.5184 - val_accuracy: 0.8383\n",
            "Epoch 9/30\n",
            "60/60 [==============================] - 138s 2s/step - loss: 0.6389 - accuracy: 0.7994 - val_loss: 0.3255 - val_accuracy: 0.9060\n",
            "Epoch 10/30\n",
            "60/60 [==============================] - 142s 2s/step - loss: 0.4841 - accuracy: 0.8500 - val_loss: 0.4105 - val_accuracy: 0.8853\n",
            "Epoch 11/30\n",
            "60/60 [==============================] - 139s 2s/step - loss: 0.4222 - accuracy: 0.8670 - val_loss: 0.2205 - val_accuracy: 0.9361\n",
            "Epoch 12/30\n",
            "60/60 [==============================] - 140s 2s/step - loss: 0.3841 - accuracy: 0.8810 - val_loss: 0.2085 - val_accuracy: 0.9342\n",
            "Epoch 13/30\n",
            "60/60 [==============================] - 140s 2s/step - loss: 0.3414 - accuracy: 0.8968 - val_loss: 0.2268 - val_accuracy: 0.9211\n",
            "Epoch 14/30\n",
            "60/60 [==============================] - 139s 2s/step - loss: 0.2992 - accuracy: 0.9049 - val_loss: 0.2099 - val_accuracy: 0.9436\n",
            "Epoch 15/30\n",
            "60/60 [==============================] - 139s 2s/step - loss: 0.4694 - accuracy: 0.8558 - val_loss: 0.3359 - val_accuracy: 0.9041\n",
            "Epoch 16/30\n",
            "60/60 [==============================] - 139s 2s/step - loss: 0.3489 - accuracy: 0.8894 - val_loss: 0.2758 - val_accuracy: 0.9380\n",
            "Epoch 17/30\n",
            "60/60 [==============================] - 140s 2s/step - loss: 0.2806 - accuracy: 0.9115 - val_loss: 0.2776 - val_accuracy: 0.9154\n",
            "Epoch 18/30\n",
            "60/60 [==============================] - 142s 2s/step - loss: 0.2757 - accuracy: 0.9142 - val_loss: 0.2138 - val_accuracy: 0.9342\n",
            "Epoch 19/30\n",
            "60/60 [==============================] - 140s 2s/step - loss: 0.2419 - accuracy: 0.9276 - val_loss: 0.2558 - val_accuracy: 0.9192\n",
            "Epoch 20/30\n",
            "60/60 [==============================] - 140s 2s/step - loss: 0.2762 - accuracy: 0.9161 - val_loss: 0.3578 - val_accuracy: 0.8985\n",
            "Epoch 21/30\n",
            "60/60 [==============================] - 140s 2s/step - loss: 0.3082 - accuracy: 0.8968 - val_loss: 0.2332 - val_accuracy: 0.9229\n",
            "Epoch 22/30\n",
            "60/60 [==============================] - 139s 2s/step - loss: 0.1980 - accuracy: 0.9343 - val_loss: 0.2314 - val_accuracy: 0.9436\n",
            "Epoch 23/30\n",
            "60/60 [==============================] - 145s 2s/step - loss: 0.1822 - accuracy: 0.9432 - val_loss: 0.2351 - val_accuracy: 0.9417\n",
            "Epoch 24/30\n",
            "60/60 [==============================] - 141s 2s/step - loss: 0.1716 - accuracy: 0.9449 - val_loss: 0.2885 - val_accuracy: 0.9135\n",
            "Epoch 25/30\n",
            "60/60 [==============================] - 140s 2s/step - loss: 0.2023 - accuracy: 0.9367 - val_loss: 0.2529 - val_accuracy: 0.9342\n",
            "Epoch 26/30\n",
            "60/60 [==============================] - ETA: 0s - loss: 0.1618 - accuracy: 0.9502\n",
            "Loss is low so cancelling training!\n",
            "60/60 [==============================] - 144s 2s/step - loss: 0.1618 - accuracy: 0.9502 - val_loss: 0.2610 - val_accuracy: 0.9455\n"
          ]
        }
      ],
      "source": [
        "# Save your model\n",
        "\n",
        "class myCallback(tf.keras.callbacks.Callback):\n",
        "    def on_epoch_end(self, epoch, logs = {}):\n",
        "        if(logs.get('accuracy') > 0.95 and logs.get('val_accuracy')>0.90):\n",
        "            print(\"\\nLoss is low so cancelling training!\")\n",
        "            self.model.stop_training = True\n",
        "\n",
        "callbacks = myCallback()\n",
        "# Train your model\n",
        "history = model3.fit(train_generator,\n",
        "                    epochs=30,\n",
        "                    verbose=1,\n",
        "                    validation_data=validation_generator,\n",
        "                    callbacks=[callbacks])"
      ]
    },
    {
      "cell_type": "code",
      "source": [
        "from matplotlib import pyplot as plt\n",
        "#loss train & validation\n",
        "plt.plot(history.history['loss'], label='Training Loss')\n",
        "plt.plot(history.history['val_loss'], label='Validation Loss')\n",
        "plt.title('Loss Plot')\n",
        "plt.ylabel('Value')\n",
        "plt.xlabel('Epoch')\n",
        "plt.legend(loc=\"upper right\")\n",
        "plt.show()"
      ],
      "metadata": {
        "colab": {
          "base_uri": "https://localhost:8080/",
          "height": 472
        },
        "outputId": "5a762daa-a9de-48cd-9600-7d577144ae31",
        "id": "3nah6-aEFjX8"
      },
      "execution_count": null,
      "outputs": [
        {
          "output_type": "display_data",
          "data": {
            "text/plain": [
              "<Figure size 640x480 with 1 Axes>"
            ],
            "image/png": "[encoded data removed]"
          },
          "metadata": {}
        }
      ]
    },
    {
      "cell_type": "code",
      "source": [
        "#accuracy train & validation\n",
        "plt.plot(history.history['accuracy'], label='Training Accuracy')\n",
        "plt.plot(history.history['val_accuracy'], label='Validation Accuracy')\n",
        "plt.title('Accuracy Plot')\n",
        "plt.ylabel('Value')\n",
        "plt.xlabel('Epoch')\n",
        "plt.legend(loc=\"lower right\")\n",
        "plt.show()"
      ],
      "metadata": {
        "colab": {
          "base_uri": "https://localhost:8080/",
          "height": 472
        },
        "outputId": "5bccacb6-58c5-4ab7-c7d8-14186b1a87b7",
        "id": "_VHnB979FjX8"
      },
      "execution_count": null,
      "outputs": [
        {
          "output_type": "display_data",
          "data": {
            "text/plain": [
              "<Figure size 640x480 with 1 Axes>"
            ],
            "image/png": "[encoded data removed]"
          },
          "metadata": {}
        }
      ]
    },
    {
      "cell_type": "code",
      "source": [
        "import numpy as np\n",
        "from google.colab import files\n",
        "from keras.preprocessing import image\n",
        "import matplotlib.pyplot as plt\n",
        "import matplotlib.image as mpimg\n",
        "import matplotlib.pyplot as plt\n",
        "import matplotlib.image as mpimg\n",
        "%matplotlib inline\n",
        "\n",
        "uploaded = files.upload()\n",
        "\n",
        "for fn in uploaded.keys():\n",
        "\n",
        "  path = fn \n",
        "  img = tf.keras.utils.load_img(path, target_size =(150,150))\n",
        "  imgplot = plt.imshow(img)\n",
        "  x = tf.keras.utils.img_to_array(img)\n",
        "  x = np.expand_dims(x, axis=0)\n",
        "\n",
        "  images = np.vstack([x])\n",
        "  classes = model3.predict(images, batch_size=10)\n",
        "\n",
        "  print(classes)"
      ],
      "metadata": {
        "colab": {
          "base_uri": "https://localhost:8080/",
          "height": 525
        },
        "outputId": "d3a8ad67-d5c2-4582-ddf5-643bdf43365b",
        "id": "TOSQZscJFjX9"
      },
      "execution_count": null,
      "outputs": [
        {
          "output_type": "display_data",
          "data": {
            "text/plain": [
              "<IPython.core.display.HTML object>"
            ],
            "text/html": [
              "\n",
              "     <input type=\"file\" id=\"files-3b7fb315-f8b5-45fc-9632-eac9f5663c48\" name=\"files[]\" multiple disabled\n",
              "        style=\"border:none\" />\n",
              "     <output id=\"result-3b7fb315-f8b5-45fc-9632-eac9f5663c48\">\n",
              "      Upload widget is only available when the cell has been executed in the\n",
              "      current browser session. Please rerun this cell to enable.\n",
              "      </output>\n",
              "      <script>// Copyright 2017 Google LLC\n",
              "//\n",
              "// Licensed under the Apache License, Version 2.0 (the \"License\");\n",
              "// you may not use this file except in compliance with the License.\n",
              "// You may obtain a copy of the License at\n",
              "//\n",
              "//      http://www.apache.org/licenses/LICENSE-2.0\n",
              "//\n",
              "// Unless required by applicable law or agreed to in writing, software\n",
              "// distributed under the License is distributed on an \"AS IS\" BASIS,\n",
              "// WITHOUT WARRANTIES OR CONDITIONS OF ANY KIND, either express or implied.\n",
              "// See the License for the specific language governing permissions and\n",
              "// limitations under the License.\n",
              "\n",
              "/**\n",
              " * @fileoverview Helpers for google.colab Python module.\n",
              " */\n",
              "(function(scope) {\n",
              "function span(text, styleAttributes = {}) {\n",
              "  const element = document.createElement('span');\n",
              "  element.textContent = text;\n",
              "  for (const key of Object.keys(styleAttributes)) {\n",
              "    element.style[key] = styleAttributes[key];\n",
              "  }\n",
              "  return element;\n",
              "}\n",
              "\n",
              "// Max number of bytes which will be uploaded at a time.\n",
              "const MAX_PAYLOAD_SIZE = 100 * 1024;\n",
              "\n",
              "function _uploadFiles(inputId, outputId) {\n",
              "  const steps = uploadFilesStep(inputId, outputId);\n",
              "  const outputElement = document.getElementById(outputId);\n",
              "  // Cache steps on the outputElement to make it available for the next call\n",
              "  // to uploadFilesContinue from Python.\n",
              "  outputElement.steps = steps;\n",
              "\n",
              "  return _uploadFilesContinue(outputId);\n",
              "}\n",
              "\n",
              "// This is roughly an async generator (not supported in the browser yet),\n",
              "// where there are multiple asynchronous steps and the Python side is going\n",
              "// to poll for completion of each step.\n",
              "// This uses a Promise to block the python side on completion of each step,\n",
              "// then passes the result of the previous step as the input to the next step.\n",
              "function _uploadFilesContinue(outputId) {\n",
              "  const outputElement = document.getElementById(outputId);\n",
              "  const steps = outputElement.steps;\n",
              "\n",
              "  const next = steps.next(outputElement.lastPromiseValue);\n",
              "  return Promise.resolve(next.value.promise).then((value) => {\n",
              "    // Cache the last promise value to make it available to the next\n",
              "    // step of the generator.\n",
              "    outputElement.lastPromiseValue = value;\n",
              "    return next.value.response;\n",
              "  });\n",
              "}\n",
              "\n",
              "/**\n",
              " * Generator function which is called between each async step of the upload\n",
              " * process.\n",
              " * @param {string} inputId Element ID of the input file picker element.\n",
              " * @param {string} outputId Element ID of the output display.\n",
              " * @return {!Iterable<!Object>} Iterable of next steps.\n",
              " */\n",
              "function* uploadFilesStep(inputId, outputId) {\n",
              "  const inputElement = document.getElementById(inputId);\n",
              "  inputElement.disabled = false;\n",
              "\n",
              "  const outputElement = document.getElementById(outputId);\n",
              "  outputElement.innerHTML = '';\n",
              "\n",
              "  const pickedPromise = new Promise((resolve) => {\n",
              "    inputElement.addEventListener('change', (e) => {\n",
              "      resolve(e.target.files);\n",
              "    });\n",
              "  });\n",
              "\n",
              "  const cancel = document.createElement('button');\n",
              "  inputElement.parentElement.appendChild(cancel);\n",
              "  cancel.textContent = 'Cancel upload';\n",
              "  const cancelPromise = new Promise((resolve) => {\n",
              "    cancel.onclick = () => {\n",
              "      resolve(null);\n",
              "    };\n",
              "  });\n",
              "\n",
              "  // Wait for the user to pick the files.\n",
              "  const files = yield {\n",
              "    promise: Promise.race([pickedPromise, cancelPromise]),\n",
              "    response: {\n",
              "      action: 'starting',\n",
              "    }\n",
              "  };\n",
              "\n",
              "  cancel.remove();\n",
              "\n",
              "  // Disable the input element since further picks are not allowed.\n",
              "  inputElement.disabled = true;\n",
              "\n",
              "  if (!files) {\n",
              "    return {\n",
              "      response: {\n",
              "        action: 'complete',\n",
              "      }\n",
              "    };\n",
              "  }\n",
              "\n",
              "  for (const file of files) {\n",
              "    const li = document.createElement('li');\n",
              "    li.append(span(file.name, {fontWeight: 'bold'}));\n",
              "    li.append(span(\n",
              "        `(${file.type || 'n/a'}) - ${file.size} bytes, ` +\n",
              "        `last modified: ${\n",
              "            file.lastModifiedDate ? file.lastModifiedDate.toLocaleDateString() :\n",
              "                                    'n/a'} - `));\n",
              "    const percent = span('0% done');\n",
              "    li.appendChild(percent);\n",
              "\n",
              "    outputElement.appendChild(li);\n",
              "\n",
              "    const fileDataPromise = new Promise((resolve) => {\n",
              "      const reader = new FileReader();\n",
              "      reader.onload = (e) => {\n",
              "        resolve(e.target.result);\n",
              "      };\n",
              "      reader.readAsArrayBuffer(file);\n",
              "    });\n",
              "    // Wait for the data to be ready.\n",
              "    let fileData = yield {\n",
              "      promise: fileDataPromise,\n",
              "      response: {\n",
              "        action: 'continue',\n",
              "      }\n",
              "    };\n",
              "\n",
              "    // Use a chunked sending to avoid message size limits. See b/62115660.\n",
              "    let position = 0;\n",
              "    do {\n",
              "      const length = Math.min(fileData.byteLength - position, MAX_PAYLOAD_SIZE);\n",
              "      const chunk = new Uint8Array(fileData, position, length);\n",
              "      position += length;\n",
              "\n",
              "      const base64 = btoa(String.fromCharCode.apply(null, chunk));\n",
              "      yield {\n",
              "        response: {\n",
              "          action: 'append',\n",
              "          file: file.name,\n",
              "          data: base64,\n",
              "        },\n",
              "      };\n",
              "\n",
              "      let percentDone = fileData.byteLength === 0 ?\n",
              "          100 :\n",
              "          Math.round((position / fileData.byteLength) * 100);\n",
              "      percent.textContent = `${percentDone}% done`;\n",
              "\n",
              "    } while (position < fileData.byteLength);\n",
              "  }\n",
              "\n",
              "  // All done.\n",
              "  yield {\n",
              "    response: {\n",
              "      action: 'complete',\n",
              "    }\n",
              "  };\n",
              "}\n",
              "\n",
              "scope.google = scope.google || {};\n",
              "scope.google.colab = scope.google.colab || {};\n",
              "scope.google.colab._files = {\n",
              "  _uploadFiles,\n",
              "  _uploadFilesContinue,\n",
              "};\n",
              "})(self);\n",
              "</script> "
            ]
          },
          "metadata": {}
        },
        {
          "output_type": "stream",
          "name": "stdout",
          "text": [
            "Saving bow.jpeg to bow.jpeg\n",
            "1/1 [==============================] - 0s 173ms/step\n",
            "[[1. 0. 0. 0. 0. 0. 0. 0. 0. 0. 0. 0. 0. 0. 0.]]\n"
          ]
        },
        {
          "output_type": "display_data",
          "data": {
            "text/plain": [
              "<Figure size 640x480 with 1 Axes>"
            ],
            "image/png": "[encoded data removed]"
          },
          "metadata": {}
        }
      ]
    },
    {
      "cell_type": "code",
      "source": [
        "model3.save('my_model')"
      ],
      "metadata": {
        "colab": {
          "base_uri": "https://localhost:8080/"
        },
        "outputId": "7d6df810-87a9-4c7d-c267-3cda90aa2776",
        "id": "FRIa0pvaFjX-"
      },
      "execution_count": null,
      "outputs": [
        {
          "output_type": "stream",
          "name": "stderr",
          "text": [
            "WARNING:absl:Found untraced functions such as _jit_compiled_convolution_op, _jit_compiled_convolution_op, _jit_compiled_convolution_op, _jit_compiled_convolution_op, _jit_compiled_convolution_op while saving (showing 5 of 16). These functions will not be directly callable after loading.\n"
          ]
        }
      ]
    },
    {
      "cell_type": "code",
      "source": [
        "!zip -r all.zip my_model"
      ],
      "metadata": {
        "colab": {
          "base_uri": "https://localhost:8080/"
        },
        "id": "IZoAfcL-_jAf",
        "outputId": "2ac3298d-e3e5-43ba-db74-16d0a16a73f2"
      },
      "execution_count": null,
      "outputs": [
        {
          "output_type": "stream",
          "name": "stdout",
          "text": [
            "  adding: my_model/ (stored 0%)\n",
            "  adding: my_model/variables/ (stored 0%)\n",
            "  adding: my_model/variables/variables.data-00000-of-00001 (deflated 7%)\n",
            "  adding: my_model/variables/variables.index (deflated 72%)\n",
            "  adding: my_model/assets/ (stored 0%)\n",
            "  adding: my_model/fingerprint.pb (stored 0%)\n",
            "  adding: my_model/saved_model.pb (deflated 90%)\n",
            "  adding: my_model/keras_metadata.pb (deflated 96%)\n"
          ]
        }
      ]
    },
    {
      "cell_type": "code",
      "source": [
        "!cp all.zip \"drive/MyDrive/Capstone Bangkit/Machine Learning/Imam\""
      ],
      "metadata": {
        "id": "lz-d2ePjobXV"
      },
      "execution_count": null,
      "outputs": []
    },
    {
      "cell_type": "code",
      "source": [
        "model3.save('all.h5')"
      ],
      "metadata": {
        "id": "Fi5Kd6ZBo4vp"
      },
      "execution_count": null,
      "outputs": []
    },
    {
      "cell_type": "code",
      "source": [
        "!cp all.h5 \"drive/MyDrive/Capstone Bangkit/Machine Learning/Imam\""
      ],
      "metadata": {
        "id": "cY8-45owo-Dy"
      },
      "execution_count": null,
      "outputs": []
    },
    {
      "cell_type": "code",
      "source": [
        "# Convert the model\n",
        "converter = tf.lite.TFLiteConverter.from_saved_model(\"my_model\") # path to the SavedModel directory\n",
        "tflite_model = converter.convert()\n",
        "\n",
        "# Save the model.\n",
        "with open('all.tflite', 'wb') as f:\n",
        "  f.write(tflite_model)"
      ],
      "metadata": {
        "id": "mzordVOYFjX_"
      },
      "execution_count": null,
      "outputs": []
    },
    {
      "cell_type": "code",
      "source": [
        "!cp all.tflite \"drive/MyDrive/Capstone Bangkit/Machine Learning/Imam\""
      ],
      "metadata": {
        "id": "chvtx57SFjYA"
      },
      "execution_count": null,
      "outputs": []
    }
  ],
  "metadata": {
    "colab": {
      "provenance": [],
      "gpuType": "T4"
    },
    "kernelspec": {
      "display_name": "Python 3",
      "name": "python3"
    },
    "language_info": {
      "name": "python"
    }
  },
  "nbformat": 4,
  "nbformat_minor": 0
}