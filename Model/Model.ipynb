{
  "cells": [
    {
      "cell_type": "markdown",
      "metadata": {
        "id": "Zd1zE27IPQzS"
      },
      "source": [
        "# Import Library"
      ]
    },
    {
      "cell_type": "code",
      "execution_count": null,
      "metadata": {
        "id": "fcyREvYqO6_1"
      },
      "outputs": [],
      "source": [
        "import pandas as pd\n",
        "import os\n",
        "import numpy as np\n",
        "from zipfile import ZipFile\n",
        "import csv\n",
        "import string\n",
        "import tensorflow as tf\n",
        "import matplotlib.pyplot as plt\n",
        "from tensorflow.keras.preprocessing.image import ImageDataGenerator, array_to_img\n",
        "from os.path import exists\n",
        "import shutil\n",
        "from PIL import Image\n",
        "import cv2"
      ]
    },
    {
      "cell_type": "code",
      "execution_count": null,
      "metadata": {
        "colab": {
          "base_uri": "https://localhost:8080/"
        },
        "id": "jAX7S62eP5of",
        "outputId": "e6e5aa03-cec9-426b-bcfd-fa643e40d3f8"
      },
      "outputs": [
        {
          "output_type": "stream",
          "name": "stdout",
          "text": [
            "Mounted at /content/drive\n"
          ]
        }
      ],
      "source": [
        "from google.colab import drive\n",
        "drive.mount('/content/drive')"
      ]
    },
    {
      "cell_type": "markdown",
      "metadata": {
        "id": "IPeIj2QHPTG5"
      },
      "source": [
        "# Extract Data"
      ]
    },
    {
      "cell_type": "code",
      "execution_count": null,
      "metadata": {
        "id": "S1nLKc89QBKH"
      },
      "outputs": [],
      "source": [
        "!cp \"/content/drive/MyDrive/Capstone Bangkit/Machine Learning/Yoga.zip\" /content"
      ]
    },
    {
      "cell_type": "code",
      "execution_count": null,
      "metadata": {
        "id": "Xmuv7r6HQOJL"
      },
      "outputs": [],
      "source": [
        "with ZipFile(\"Yoga.zip\", 'r') as a:\n",
        "  a.extractall()"
      ]
    },
    {
      "cell_type": "code",
      "execution_count": null,
      "metadata": {
        "id": "a7EiCimKVRQq"
      },
      "outputs": [],
      "source": [
        "# shutil.rmtree('my_model')"
      ]
    },
    {
      "cell_type": "code",
      "execution_count": null,
      "metadata": {
        "colab": {
          "base_uri": "https://localhost:8080/"
        },
        "id": "Zvt2BKQiWaa7",
        "outputId": "d41220ae-a382-4428-cb96-ea4d5b26e134"
      },
      "outputs": [
        {
          "output_type": "stream",
          "name": "stderr",
          "text": [
            "/usr/local/lib/python3.10/dist-packages/PIL/TiffImagePlugin.py:819: UserWarning: Truncated File Read\n",
            "  warnings.warn(str(msg))\n"
          ]
        },
        {
          "output_type": "stream",
          "name": "stdout",
          "text": [
            "8202 Images are removed\n"
          ]
        }
      ],
      "source": [
        "PATH1 = \"content/Yoga/\"\n",
        "FILE1 = os.listdir(PATH1)\n",
        "a = 0\n",
        "for i in FILE1:\n",
        "  FILE2 = PATH1 + i + '/'\n",
        "  for file_name in os.listdir(FILE2):\n",
        "    file_path = FILE2 + file_name\n",
        "    if file_name.endswith('.jpg'):\n",
        "      try:\n",
        "        img = Image.open(file_path) # open the image file\n",
        "        img.verify() # verify that it is, in fact an image\n",
        "      except (IOError, SyntaxError) as e:\n",
        "        os.remove(file_path)\n",
        "        a+=1\n",
        "print(a,\"Images are removed\")"
      ]
    },
    {
      "cell_type": "code",
      "execution_count": null,
      "metadata": {
        "colab": {
          "base_uri": "https://localhost:8080/"
        },
        "id": "KEQqPxawaHfr",
        "outputId": "5a5323e5-c920-4eac-f5e9-d998878ce40f"
      },
      "outputs": [
        {
          "output_type": "stream",
          "name": "stdout",
          "text": [
            "19547 Image are reshaped\n"
          ]
        }
      ],
      "source": [
        "# PATH1 = \"content/Yoga/\"\n",
        "# FILE1 = os.listdir(PATH1)\n",
        "# a = 0\n",
        "# for i in FILE1:\n",
        "#   FILE2 = PATH1 + i + '/'\n",
        "#   for file_name in os.listdir(FILE2):\n",
        "#     file_path = FILE2 + file_name\n",
        "#     img = cv2.imread(file_path)\n",
        "#     # resize image by specifying custom width and height\n",
        "#     try:\n",
        "#       resized = cv2.resize(img, (300, 300))\n",
        "#       cv2.imwrite(file_path, resized)\n",
        "#       a+=1\n",
        "#     except:\n",
        "#       continue\n",
        "# print(a,\"Image are reshaped\")"
      ]
    },
    {
      "cell_type": "code",
      "execution_count": null,
      "metadata": {
        "id": "3jpdYo81R7Na"
      },
      "outputs": [],
      "source": [
        "import random\n",
        "def split_data(SOURCE_DIR, TRAINING_DIR, VALIDATION_DIR, SPLIT_SIZE):\n",
        "  all_files = []\n",
        "    \n",
        "  for file_name in os.listdir(SOURCE_DIR):\n",
        "      file_path = SOURCE_DIR + file_name\n",
        "\n",
        "      if os.path.getsize(file_path):\n",
        "          all_files.append(file_name)\n",
        "  \n",
        "  n_files = len(all_files)\n",
        "  split_point = int(n_files * SPLIT_SIZE)\n",
        "  \n",
        "  shuffled = random.sample(all_files, n_files)\n",
        "  \n",
        "  train_set = shuffled[:split_point]\n",
        "  test_set = shuffled[split_point:]\n",
        "  \n",
        "  for file_name in train_set:\n",
        "      shutil.copy2(SOURCE_DIR + file_name, TRAINING_DIR + file_name)\n",
        "      \n",
        "  for file_name in test_set:\n",
        "      shutil.copy2(SOURCE_DIR + file_name, VALIDATION_DIR + file_name)"
      ]
    },
    {
      "cell_type": "code",
      "execution_count": null,
      "metadata": {
        "id": "g1MWq30Q1AAO"
      },
      "outputs": [],
      "source": [
        "def rgb_to_gray(image):\n",
        "    image = tf.image.rgb_to_grayscale(image)\n",
        "    image = tf.image.grayscale_to_rgb(image)\n",
        "    return image"
      ]
    },
    {
      "cell_type": "code",
      "execution_count": null,
      "metadata": {
        "id": "7_nGSPIkbyfd"
      },
      "outputs": [],
      "source": [
        "!rm -rf `find -type d -name .ipynb_checkpoints`"
      ]
    },
    {
      "cell_type": "code",
      "execution_count": null,
      "metadata": {
        "id": "oq_CqIPJh-N8"
      },
      "outputs": [],
      "source": [
        "PATH1 = \"content/Yoga/\"\n",
        "FILE1 = os.listdir(PATH1)\n",
        "for i in FILE1:\n",
        "  a = 0\n",
        "  FILE2 = PATH1 + i + '/'\n",
        "  for file_name in os.listdir(FILE2):\n",
        "    a+=1\n",
        "  if a>=100:\n",
        "    print(i,\"has\",a,\"images\")"
      ]
    },
    {
      "cell_type": "markdown",
      "metadata": {
        "id": "1hXTqWIqk4QW"
      },
      "source": [
        "Backpain: https://www.healthline.com/health/fitness-exercise/yoga-for-back-pain\n",
        "- Downward-Facing Dog: 315\n",
        "- Cobra Pose: 830\n",
        "- Bridge Pose: 281\n",
        "- Child Pose: 318\n",
        "- Locust_Pose: 241\n",
        "\n",
        "  Total: 2398\n",
        "\n",
        "Anxiety: https://www.healthline.com/health/anxiety/yoga-for-anxiety \n",
        "- Tree Pose: 266\n",
        "- Triangle Pose: 542\n",
        "- Standing Forward Bend: 407\n",
        "- Fish Pose: 305\n",
        "- Child Pose: 381\n",
        "\n",
        "  Total: 2126\n",
        "\n",
        "Flexibility: https://www.healthline.com/health/exercise-fitness/yoga-for-flexibility \n",
        "- Plow Pose: 329\n",
        "- Side Stretch Pose: 190\n",
        "- Bow Pose: 239\n",
        "- Low lunge: 261\n",
        "- Cow Face Pose: 315\n",
        "\n",
        "  Total: 1782\n",
        "\n",
        "Neck Pain: https://www.healthline.com/health/yoga-for-neck-pain\n",
        "- Standing_Forward_Bend: 407\n",
        "- Warrior_II: 268\n",
        "- Triangle Pose: 542\n",
        "- Cow Face Pose: 315\n",
        "- Corpse_Pose: 336\n",
        "\n",
        "  Total: 2281\n"
      ]
    },
    {
      "cell_type": "code",
      "source": [
        "backPain = [\"Downward-Facing_Dog_pose_or_Adho_Mukha_Svanasana_\", \"Cobra_Pose_or_Bhujangasana_\", \"Bridge_Pose_or_Setu_Bandha_Sarvangasana_\", \"Child_Pose_or_Balasana_\", \"Locust_Pose_or_Salabhasana_\"]\n",
        "anxiety = [\"Tree_Pose_or_Vrksasana_\", \"Extended_Revolved_Triangle_Pose_or_Utthita_Trikonasana_\", \"Standing_Forward_Bend_pose_or_Uttanasana_\", \"Fish_Pose_or_Matsyasana_\", \"Child_Pose_or_Balasana_\"]\n",
        "flexibility = [\"Plow_Pose_or_Halasana_\", \"Bow_Pose_or_Dhanurasana_\", \"Low_Lunge_pose_or_Anjaneyasana_\", \"Cow_Face_Pose_or_Gomukhasana_\",\"Intense_Side_Stretch_Pose_or_Parsvottanasana_\"]\n",
        "neckPain = [\"Standing_Forward_Bend_pose_or_Uttanasana_\", \"Warrior_II_Pose_or_Virabhadrasana_II_\", \"Extended_Revolved_Triangle_Pose_or_Utthita_Trikonasana_\", \"Cow_Face_Pose_or_Gomukhasana_\", \"Corpse_Pose_or_Savasana_\"]"
      ],
      "metadata": {
        "id": "R9iUv6N64p2Y"
      },
      "execution_count": null,
      "outputs": []
    },
    {
      "cell_type": "markdown",
      "source": [
        "#BackPain (Done)"
      ],
      "metadata": {
        "id": "mr_Ieq1DFjXj"
      }
    },
    {
      "cell_type": "code",
      "source": [
        "def train_val_generators(TRAINING_DIR, VALIDATION_DIR):\n",
        "  \"\"\"\n",
        "  Creates the training and validation data generators\n",
        "  \n",
        "  Args:\n",
        "    TRAINING_DIR (string): directory path containing the training images\n",
        "    VALIDATION_DIR (string): directory path containing the testing/validation images\n",
        "    \n",
        "  Returns:\n",
        "    train_generator, validation_generator - tuple containing the generators\n",
        "  \"\"\"\n",
        "  ### START CODE HERE\n",
        "\n",
        "  # Instantiate the ImageDataGenerator class (don't forget to set the arguments to augment the images)\n",
        "  train_datagen = ImageDataGenerator(rescale=1.0/255,\n",
        "                                     preprocessing_function=rgb_to_gray,\n",
        "                                     rotation_range=90,\n",
        "                                     width_shift_range=0.2,\n",
        "                                     height_shift_range=0.2,\n",
        "                                    #  shear_range=0.2,\n",
        "                                     zoom_range=0.2,\n",
        "                                     horizontal_flip=True,\n",
        "                                    #  fill_mode='nearest'\n",
        "                                     )\n",
        "\n",
        "  # Pass in the appropriate arguments to the flow_from_directory method\n",
        "  train_generator = train_datagen.flow_from_directory(directory=TRAINING_DIR,\n",
        "                                                      batch_size=50,\n",
        "                                                      class_mode='categorical',\n",
        "                                                      target_size=(100, 100))\n",
        "\n",
        "  # Instantiate the ImageDataGenerator class (don't forget to set the rescale argument)\n",
        "  validation_datagen = ImageDataGenerator(rescale=1.0/255,\n",
        "                                          # preprocessing_function=rgb_to_gray,\n",
        "                                          # rotation_range=40,\n",
        "                                          # width_shift_range=0.2,\n",
        "                                          # height_shift_range=0.2,\n",
        "                                          # shear_range=0.2,\n",
        "                                          # zoom_range=0.2,\n",
        "                                          # horizontal_flip=True,\n",
        "                                          # fill_mode='nearest'\n",
        "                                          )\n",
        "\n",
        "  # Pass in the appropriate arguments to the flow_from_directory method\n",
        "  validation_generator = validation_datagen.flow_from_directory(directory=VALIDATION_DIR,\n",
        "                                                                batch_size=50,\n",
        "                                                                class_mode='categorical',\n",
        "                                                                target_size=(100, 100))\n",
        "  ### END CODE HERE\n",
        "  return train_generator, validation_generator"
      ],
      "metadata": {
        "id": "Yq1FkvZ06hY3"
      },
      "execution_count": null,
      "outputs": []
    },
    {
      "cell_type": "code",
      "execution_count": null,
      "metadata": {
        "id": "zirrj3RKFjX1"
      },
      "outputs": [],
      "source": [
        "!mkdir backPain"
      ]
    },
    {
      "cell_type": "code",
      "execution_count": null,
      "metadata": {
        "id": "-mRB_8i4FjX2"
      },
      "outputs": [],
      "source": [
        "for i in range(len(backPain)):\n",
        "  src = f\"content/Yoga/{backPain[i]}\"\n",
        "  dst = f\"backPain/data/{backPain[i]}\"\n",
        "  shutil.copytree(src, dst)"
      ]
    },
    {
      "cell_type": "code",
      "execution_count": null,
      "metadata": {
        "id": "jQBSTWjNFjX2"
      },
      "outputs": [],
      "source": [
        "!mkdir backPain/training"
      ]
    },
    {
      "cell_type": "code",
      "execution_count": null,
      "metadata": {
        "id": "wsz9KOAbFjX3"
      },
      "outputs": [],
      "source": [
        "!mkdir backPain/validation"
      ]
    },
    {
      "cell_type": "code",
      "execution_count": null,
      "metadata": {
        "id": "WJk4q8ARFjX3"
      },
      "outputs": [],
      "source": [
        "for i in range(5):\n",
        "  !mkdir backPain/training/$i\n",
        "  !mkdir backPain/validation/$i"
      ]
    },
    {
      "cell_type": "code",
      "execution_count": null,
      "metadata": {
        "id": "xGYGdpabFjX4"
      },
      "outputs": [],
      "source": [
        "for i in range(5):\n",
        "  source = f\"/content/backPain/data/{backPain[i]}/\"\n",
        "  train = f\"/content/backPain/training/{i}/\"\n",
        "  valid = f\"/content/backPain/validation/{i}/\"\n",
        "  split = 0.9\n",
        "  split_data(source, train, valid, split)"
      ]
    },
    {
      "cell_type": "code",
      "execution_count": null,
      "metadata": {
        "colab": {
          "base_uri": "https://localhost:8080/"
        },
        "outputId": "95bd232e-9a1e-4202-b644-942a31d7af8a",
        "id": "VtFh1h6tFjX5"
      },
      "outputs": [
        {
          "output_type": "stream",
          "name": "stdout",
          "text": [
            "Found 1784 images belonging to 5 classes.\n",
            "Found 201 images belonging to 5 classes.\n"
          ]
        }
      ],
      "source": [
        "TRAINING_DIR = \"backPain/training\"\n",
        "VALIDATION_DIR = \"backPain/validation\"\n",
        "train_generator, validation_generator = train_val_generators(TRAINING_DIR, VALIDATION_DIR)"
      ]
    },
    {
      "cell_type": "code",
      "source": [
        "for i in range(1,1784):\n",
        "  if 1784%i == 2:\n",
        "    print(i)"
      ],
      "metadata": {
        "id": "kvsL2Ohd7lgS"
      },
      "execution_count": null,
      "outputs": []
    },
    {
      "cell_type": "code",
      "execution_count": null,
      "metadata": {
        "id": "q-UxMVdnFjX6",
        "colab": {
          "base_uri": "https://localhost:8080/"
        },
        "outputId": "b720c8b3-ac6b-46e2-eb40-7c1edf1c8083"
      },
      "outputs": [
        {
          "output_type": "stream",
          "name": "stdout",
          "text": [
            "Model: \"sequential_6\"\n",
            "_________________________________________________________________\n",
            " Layer (type)                Output Shape              Param #   \n",
            "=================================================================\n",
            " vgg16 (Functional)          (None, 3, 3, 512)         14714688  \n",
            "                                                                 \n",
            " flatten_6 (Flatten)         (None, 4608)              0         \n",
            "                                                                 \n",
            " dense_6 (Dense)             (None, 5)                 23045     \n",
            "                                                                 \n",
            "=================================================================\n",
            "Total params: 14,737,733\n",
            "Trainable params: 14,737,733\n",
            "Non-trainable params: 0\n",
            "_________________________________________________________________\n"
          ]
        }
      ],
      "source": [
        "from tensorflow.keras.applications import VGG16, InceptionResNetV2 , VGG19\n",
        "model3 = tf.keras.Sequential()\n",
        "model3.add(VGG16(include_top = False,weights = 'imagenet',input_shape= (100,100,3)))\n",
        "model3.add(tf.keras.layers.Flatten())\n",
        "model3.add(tf.keras.layers.Dense(5,activation = 'softmax'))\n",
        "model3.summary()"
      ]
    },
    {
      "cell_type": "code",
      "source": [
        "from tensorflow.keras.optimizers import Adam\n",
        "optimizer = Adam(learning_rate = 0.0001)\n",
        "model3.compile(loss = tf.keras.losses.CategoricalCrossentropy(from_logits=True),optimizer = optimizer,metrics = ['accuracy'])"
      ],
      "metadata": {
        "id": "2t6HdBOPotZ2"
      },
      "execution_count": null,
      "outputs": []
    },
    {
      "cell_type": "code",
      "execution_count": null,
      "metadata": {
        "colab": {
          "base_uri": "https://localhost:8080/"
        },
        "outputId": "6765e572-5caf-4b6a-b90f-3a0e0982f690",
        "id": "uru4XIUZFjX7"
      },
      "outputs": [
        {
          "output_type": "stream",
          "name": "stdout",
          "text": [
            "Epoch 1/50\n",
            "36/36 [==============================] - 49s 1s/step - loss: 1.4940 - accuracy: 0.4142 - val_loss: 1.4573 - val_accuracy: 0.4129\n",
            "Epoch 2/50\n",
            "36/36 [==============================] - 45s 1s/step - loss: 1.4489 - accuracy: 0.4204 - val_loss: 1.3848 - val_accuracy: 0.4378\n",
            "Epoch 3/50\n",
            "36/36 [==============================] - 43s 1s/step - loss: 1.3169 - accuracy: 0.4781 - val_loss: 0.9871 - val_accuracy: 0.6219\n",
            "Epoch 4/50\n",
            "36/36 [==============================] - 41s 1s/step - loss: 1.0856 - accuracy: 0.5762 - val_loss: 0.7952 - val_accuracy: 0.6716\n",
            "Epoch 5/50\n",
            "36/36 [==============================] - 42s 1s/step - loss: 0.9170 - accuracy: 0.6637 - val_loss: 0.6191 - val_accuracy: 0.7612\n",
            "Epoch 6/50\n",
            "36/36 [==============================] - 45s 1s/step - loss: 0.8198 - accuracy: 0.6956 - val_loss: 0.6958 - val_accuracy: 0.7363\n",
            "Epoch 7/50\n",
            "36/36 [==============================] - 41s 1s/step - loss: 0.7892 - accuracy: 0.6984 - val_loss: 0.5991 - val_accuracy: 0.7612\n",
            "Epoch 8/50\n",
            "36/36 [==============================] - 41s 1s/step - loss: 0.7345 - accuracy: 0.7293 - val_loss: 0.5901 - val_accuracy: 0.7662\n",
            "Epoch 9/50\n",
            "36/36 [==============================] - 42s 1s/step - loss: 0.6811 - accuracy: 0.7539 - val_loss: 0.4520 - val_accuracy: 0.8010\n",
            "Epoch 10/50\n",
            "36/36 [==============================] - 42s 1s/step - loss: 0.5802 - accuracy: 0.7808 - val_loss: 0.5940 - val_accuracy: 0.7612\n",
            "Epoch 11/50\n",
            "36/36 [==============================] - 41s 1s/step - loss: 0.5988 - accuracy: 0.7876 - val_loss: 0.3695 - val_accuracy: 0.8408\n",
            "Epoch 12/50\n",
            "36/36 [==============================] - 43s 1s/step - loss: 0.5276 - accuracy: 0.8111 - val_loss: 0.4439 - val_accuracy: 0.8358\n",
            "Epoch 13/50\n",
            "36/36 [==============================] - 42s 1s/step - loss: 0.4850 - accuracy: 0.8195 - val_loss: 0.3817 - val_accuracy: 0.8408\n",
            "Epoch 14/50\n",
            "36/36 [==============================] - 42s 1s/step - loss: 0.4889 - accuracy: 0.8268 - val_loss: 0.3864 - val_accuracy: 0.8756\n",
            "Epoch 15/50\n",
            "36/36 [==============================] - 42s 1s/step - loss: 0.4486 - accuracy: 0.8436 - val_loss: 0.4466 - val_accuracy: 0.8507\n",
            "Epoch 16/50\n",
            "36/36 [==============================] - 44s 1s/step - loss: 0.4375 - accuracy: 0.8475 - val_loss: 0.3509 - val_accuracy: 0.8905\n",
            "Epoch 17/50\n",
            "36/36 [==============================] - 44s 1s/step - loss: 0.4290 - accuracy: 0.8453 - val_loss: 0.2695 - val_accuracy: 0.8955\n",
            "Epoch 18/50\n",
            "36/36 [==============================] - 42s 1s/step - loss: 0.4085 - accuracy: 0.8554 - val_loss: 0.2875 - val_accuracy: 0.8955\n",
            "Epoch 19/50\n",
            "36/36 [==============================] - 42s 1s/step - loss: 0.3799 - accuracy: 0.8677 - val_loss: 0.3521 - val_accuracy: 0.8607\n",
            "Epoch 20/50\n",
            "36/36 [==============================] - 43s 1s/step - loss: 0.3673 - accuracy: 0.8688 - val_loss: 0.3007 - val_accuracy: 0.8955\n",
            "Epoch 21/50\n",
            "36/36 [==============================] - 44s 1s/step - loss: 0.3438 - accuracy: 0.8728 - val_loss: 0.4045 - val_accuracy: 0.8507\n",
            "Epoch 22/50\n",
            "36/36 [==============================] - 42s 1s/step - loss: 0.3559 - accuracy: 0.8672 - val_loss: 0.3253 - val_accuracy: 0.9005\n",
            "Epoch 23/50\n",
            "36/36 [==============================] - 42s 1s/step - loss: 0.3290 - accuracy: 0.8795 - val_loss: 0.3537 - val_accuracy: 0.8806\n",
            "Epoch 24/50\n",
            "36/36 [==============================] - 41s 1s/step - loss: 0.3096 - accuracy: 0.8924 - val_loss: 0.2743 - val_accuracy: 0.8856\n",
            "Epoch 25/50\n",
            "36/36 [==============================] - 42s 1s/step - loss: 0.3308 - accuracy: 0.8817 - val_loss: 0.2509 - val_accuracy: 0.8806\n",
            "Epoch 26/50\n",
            "36/36 [==============================] - ETA: 0s - loss: 0.2839 - accuracy: 0.9025\n",
            "Loss is low so cancelling training!\n",
            "36/36 [==============================] - 41s 1s/step - loss: 0.2839 - accuracy: 0.9025 - val_loss: 0.3160 - val_accuracy: 0.9005\n"
          ]
        }
      ],
      "source": [
        "# Save your model\n",
        "\n",
        "class myCallback(tf.keras.callbacks.Callback):\n",
        "    def on_epoch_end(self, epoch, logs = {}):\n",
        "        if(logs.get('accuracy') > 0.90 and logs.get('val_accuracy')>0.90):\n",
        "            print(\"\\nLoss is low so cancelling training!\")\n",
        "            self.model.stop_training = True\n",
        "\n",
        "callbacks = myCallback()\n",
        "# Train your model\n",
        "history = model3.fit(train_generator,\n",
        "                    epochs=50,\n",
        "                    verbose=1,\n",
        "                    validation_data=validation_generator,\n",
        "                    callbacks=[callbacks])"
      ]
    },
    {
      "cell_type": "code",
      "source": [
        "from matplotlib import pyplot as plt\n",
        "#loss train & validation\n",
        "plt.plot(history.history['loss'], label='Training Loss')\n",
        "plt.plot(history.history['val_loss'], label='Validation Loss')\n",
        "plt.title('Loss Plot')\n",
        "plt.ylabel('Value')\n",
        "plt.xlabel('Epoch')\n",
        "plt.legend(loc=\"upper right\")\n",
        "plt.show()"
      ],
      "metadata": {
        "colab": {
          "base_uri": "https://localhost:8080/",
          "height": 472
        },
        "outputId": "6d2473f4-8aed-4794-9d7e-82fd0e5b4b6b",
        "id": "3nah6-aEFjX8"
      },
      "execution_count": null,
      "outputs": [
        {
          "output_type": "display_data",
          "data": {
            "text/plain": [
              "<Figure size 640x480 with 1 Axes>"
            ],
            "image/png": "[encoded data removed]"
          },
          "metadata": {}
        }
      ]
    },
    {
      "cell_type": "code",
      "source": [
        "#accuracy train & validation\n",
        "plt.plot(history.history['accuracy'], label='Training Accuracy')\n",
        "plt.plot(history.history['val_accuracy'], label='Validation Accuracy')\n",
        "plt.title('Accuracy Plot')\n",
        "plt.ylabel('Value')\n",
        "plt.xlabel('Epoch')\n",
        "plt.legend(loc=\"lower right\")\n",
        "plt.show()"
      ],
      "metadata": {
        "colab": {
          "base_uri": "https://localhost:8080/",
          "height": 472
        },
        "outputId": "399a97e4-a614-4e14-90c4-9aee4fbac627",
        "id": "_VHnB979FjX8"
      },
      "execution_count": null,
      "outputs": [
        {
          "output_type": "display_data",
          "data": {
            "text/plain": [
              "<Figure size 640x480 with 1 Axes>"
            ],
            "image/png": "[encoded data removed]"
          },
          "metadata": {}
        }
      ]
    },
    {
      "cell_type": "code",
      "source": [
        "import numpy as np\n",
        "from google.colab import files\n",
        "from keras.preprocessing import image\n",
        "import matplotlib.pyplot as plt\n",
        "import matplotlib.image as mpimg\n",
        "import matplotlib.pyplot as plt\n",
        "import matplotlib.image as mpimg\n",
        "%matplotlib inline\n",
        "\n",
        "uploaded = files.upload()\n",
        "\n",
        "for fn in uploaded.keys():\n",
        "\n",
        "  path = fn \n",
        "  img = tf.keras.utils.load_img(path, target_size =(100,100))\n",
        "  imgplot = plt.imshow(img)\n",
        "  x = tf.keras.utils.img_to_array(img)\n",
        "  x = np.expand_dims(x, axis=0)\n",
        "\n",
        "  images = np.vstack([x])\n",
        "  classes = model3.predict(images, batch_size=10)\n",
        "\n",
        "  print(classes)"
      ],
      "metadata": {
        "colab": {
          "base_uri": "https://localhost:8080/",
          "height": 524
        },
        "outputId": "123698d8-acf7-45a3-b2c2-07b0f5f04430",
        "id": "TOSQZscJFjX9"
      },
      "execution_count": null,
      "outputs": [
        {
          "output_type": "display_data",
          "data": {
            "text/plain": [
              "<IPython.core.display.HTML object>"
            ],
            "text/html": [
              "\n",
              "     <input type=\"file\" id=\"files-c6d75872-196b-469f-965e-0a2aad56ff94\" name=\"files[]\" multiple disabled\n",
              "        style=\"border:none\" />\n",
              "     <output id=\"result-c6d75872-196b-469f-965e-0a2aad56ff94\">\n",
              "      Upload widget is only available when the cell has been executed in the\n",
              "      current browser session. Please rerun this cell to enable.\n",
              "      </output>\n",
              "      <script>// Copyright 2017 Google LLC\n",
              "//\n",
              "// Licensed under the Apache License, Version 2.0 (the \"License\");\n",
              "// you may not use this file except in compliance with the License.\n",
              "// You may obtain a copy of the License at\n",
              "//\n",
              "//      http://www.apache.org/licenses/LICENSE-2.0\n",
              "//\n",
              "// Unless required by applicable law or agreed to in writing, software\n",
              "// distributed under the License is distributed on an \"AS IS\" BASIS,\n",
              "// WITHOUT WARRANTIES OR CONDITIONS OF ANY KIND, either express or implied.\n",
              "// See the License for the specific language governing permissions and\n",
              "// limitations under the License.\n",
              "\n",
              "/**\n",
              " * @fileoverview Helpers for google.colab Python module.\n",
              " */\n",
              "(function(scope) {\n",
              "function span(text, styleAttributes = {}) {\n",
              "  const element = document.createElement('span');\n",
              "  element.textContent = text;\n",
              "  for (const key of Object.keys(styleAttributes)) {\n",
              "    element.style[key] = styleAttributes[key];\n",
              "  }\n",
              "  return element;\n",
              "}\n",
              "\n",
              "// Max number of bytes which will be uploaded at a time.\n",
              "const MAX_PAYLOAD_SIZE = 100 * 1024;\n",
              "\n",
              "function _uploadFiles(inputId, outputId) {\n",
              "  const steps = uploadFilesStep(inputId, outputId);\n",
              "  const outputElement = document.getElementById(outputId);\n",
              "  // Cache steps on the outputElement to make it available for the next call\n",
              "  // to uploadFilesContinue from Python.\n",
              "  outputElement.steps = steps;\n",
              "\n",
              "  return _uploadFilesContinue(outputId);\n",
              "}\n",
              "\n",
              "// This is roughly an async generator (not supported in the browser yet),\n",
              "// where there are multiple asynchronous steps and the Python side is going\n",
              "// to poll for completion of each step.\n",
              "// This uses a Promise to block the python side on completion of each step,\n",
              "// then passes the result of the previous step as the input to the next step.\n",
              "function _uploadFilesContinue(outputId) {\n",
              "  const outputElement = document.getElementById(outputId);\n",
              "  const steps = outputElement.steps;\n",
              "\n",
              "  const next = steps.next(outputElement.lastPromiseValue);\n",
              "  return Promise.resolve(next.value.promise).then((value) => {\n",
              "    // Cache the last promise value to make it available to the next\n",
              "    // step of the generator.\n",
              "    outputElement.lastPromiseValue = value;\n",
              "    return next.value.response;\n",
              "  });\n",
              "}\n",
              "\n",
              "/**\n",
              " * Generator function which is called between each async step of the upload\n",
              " * process.\n",
              " * @param {string} inputId Element ID of the input file picker element.\n",
              " * @param {string} outputId Element ID of the output display.\n",
              " * @return {!Iterable<!Object>} Iterable of next steps.\n",
              " */\n",
              "function* uploadFilesStep(inputId, outputId) {\n",
              "  const inputElement = document.getElementById(inputId);\n",
              "  inputElement.disabled = false;\n",
              "\n",
              "  const outputElement = document.getElementById(outputId);\n",
              "  outputElement.innerHTML = '';\n",
              "\n",
              "  const pickedPromise = new Promise((resolve) => {\n",
              "    inputElement.addEventListener('change', (e) => {\n",
              "      resolve(e.target.files);\n",
              "    });\n",
              "  });\n",
              "\n",
              "  const cancel = document.createElement('button');\n",
              "  inputElement.parentElement.appendChild(cancel);\n",
              "  cancel.textContent = 'Cancel upload';\n",
              "  const cancelPromise = new Promise((resolve) => {\n",
              "    cancel.onclick = () => {\n",
              "      resolve(null);\n",
              "    };\n",
              "  });\n",
              "\n",
              "  // Wait for the user to pick the files.\n",
              "  const files = yield {\n",
              "    promise: Promise.race([pickedPromise, cancelPromise]),\n",
              "    response: {\n",
              "      action: 'starting',\n",
              "    }\n",
              "  };\n",
              "\n",
              "  cancel.remove();\n",
              "\n",
              "  // Disable the input element since further picks are not allowed.\n",
              "  inputElement.disabled = true;\n",
              "\n",
              "  if (!files) {\n",
              "    return {\n",
              "      response: {\n",
              "        action: 'complete',\n",
              "      }\n",
              "    };\n",
              "  }\n",
              "\n",
              "  for (const file of files) {\n",
              "    const li = document.createElement('li');\n",
              "    li.append(span(file.name, {fontWeight: 'bold'}));\n",
              "    li.append(span(\n",
              "        `(${file.type || 'n/a'}) - ${file.size} bytes, ` +\n",
              "        `last modified: ${\n",
              "            file.lastModifiedDate ? file.lastModifiedDate.toLocaleDateString() :\n",
              "                                    'n/a'} - `));\n",
              "    const percent = span('0% done');\n",
              "    li.appendChild(percent);\n",
              "\n",
              "    outputElement.appendChild(li);\n",
              "\n",
              "    const fileDataPromise = new Promise((resolve) => {\n",
              "      const reader = new FileReader();\n",
              "      reader.onload = (e) => {\n",
              "        resolve(e.target.result);\n",
              "      };\n",
              "      reader.readAsArrayBuffer(file);\n",
              "    });\n",
              "    // Wait for the data to be ready.\n",
              "    let fileData = yield {\n",
              "      promise: fileDataPromise,\n",
              "      response: {\n",
              "        action: 'continue',\n",
              "      }\n",
              "    };\n",
              "\n",
              "    // Use a chunked sending to avoid message size limits. See b/62115660.\n",
              "    let position = 0;\n",
              "    do {\n",
              "      const length = Math.min(fileData.byteLength - position, MAX_PAYLOAD_SIZE);\n",
              "      const chunk = new Uint8Array(fileData, position, length);\n",
              "      position += length;\n",
              "\n",
              "      const base64 = btoa(String.fromCharCode.apply(null, chunk));\n",
              "      yield {\n",
              "        response: {\n",
              "          action: 'append',\n",
              "          file: file.name,\n",
              "          data: base64,\n",
              "        },\n",
              "      };\n",
              "\n",
              "      let percentDone = fileData.byteLength === 0 ?\n",
              "          100 :\n",
              "          Math.round((position / fileData.byteLength) * 100);\n",
              "      percent.textContent = `${percentDone}% done`;\n",
              "\n",
              "    } while (position < fileData.byteLength);\n",
              "  }\n",
              "\n",
              "  // All done.\n",
              "  yield {\n",
              "    response: {\n",
              "      action: 'complete',\n",
              "    }\n",
              "  };\n",
              "}\n",
              "\n",
              "scope.google = scope.google || {};\n",
              "scope.google.colab = scope.google.colab || {};\n",
              "scope.google.colab._files = {\n",
              "  _uploadFiles,\n",
              "  _uploadFilesContinue,\n",
              "};\n",
              "})(self);\n",
              "</script> "
            ]
          },
          "metadata": {}
        },
        {
          "output_type": "stream",
          "name": "stdout",
          "text": [
            "Saving cobra.jpg to cobra (2).jpg\n",
            "1/1 [==============================] - 0s 169ms/step\n",
            "[[0. 1. 0. 0. 0.]]\n"
          ]
        },
        {
          "output_type": "display_data",
          "data": {
            "text/plain": [
              "<Figure size 640x480 with 1 Axes>"
            ],
            "image/png": "[encoded data removed]"
          },
          "metadata": {}
        }
      ]
    },
    {
      "cell_type": "code",
      "source": [
        "model3.save('my_model')"
      ],
      "metadata": {
        "colab": {
          "base_uri": "https://localhost:8080/"
        },
        "outputId": "3bc6a164-3db8-4013-bcd6-0e0e711a1dee",
        "id": "FRIa0pvaFjX-"
      },
      "execution_count": null,
      "outputs": [
        {
          "output_type": "stream",
          "name": "stderr",
          "text": [
            "WARNING:absl:Found untraced functions such as _jit_compiled_convolution_op, _jit_compiled_convolution_op, _jit_compiled_convolution_op, _jit_compiled_convolution_op, _jit_compiled_convolution_op while saving (showing 5 of 13). These functions will not be directly callable after loading.\n"
          ]
        }
      ]
    },
    {
      "cell_type": "code",
      "source": [
        "!zip -r backPain.zip my_model"
      ],
      "metadata": {
        "colab": {
          "base_uri": "https://localhost:8080/"
        },
        "id": "IZoAfcL-_jAf",
        "outputId": "e4b0259c-7618-4422-d0f7-b9e6604f1b16"
      },
      "execution_count": null,
      "outputs": [
        {
          "output_type": "stream",
          "name": "stdout",
          "text": [
            "  adding: my_model/ (stored 0%)\n",
            "  adding: my_model/variables/ (stored 0%)\n",
            "  adding: my_model/variables/variables.data-00000-of-00001 (deflated 7%)\n",
            "  adding: my_model/variables/variables.index (deflated 71%)\n",
            "  adding: my_model/assets/ (stored 0%)\n",
            "  adding: my_model/fingerprint.pb (stored 0%)\n",
            "  adding: my_model/saved_model.pb (deflated 90%)\n",
            "  adding: my_model/keras_metadata.pb (deflated 96%)\n"
          ]
        }
      ]
    },
    {
      "cell_type": "code",
      "source": [
        "!cp backPain.zip \"drive/MyDrive/Capstone Bangkit/Machine Learning/Imam/backPain\""
      ],
      "metadata": {
        "id": "lz-d2ePjobXV"
      },
      "execution_count": null,
      "outputs": []
    },
    {
      "cell_type": "code",
      "source": [
        "model3.save('backPain.h5')"
      ],
      "metadata": {
        "id": "Fi5Kd6ZBo4vp"
      },
      "execution_count": null,
      "outputs": []
    },
    {
      "cell_type": "code",
      "source": [
        "!cp backPain.h5 \"drive/MyDrive/Capstone Bangkit/Machine Learning/Imam/backPain\""
      ],
      "metadata": {
        "id": "cY8-45owo-Dy"
      },
      "execution_count": null,
      "outputs": []
    },
    {
      "cell_type": "code",
      "source": [
        "# Convert the model\n",
        "converter = tf.lite.TFLiteConverter.from_saved_model(\"my_model\") # path to the SavedModel directory\n",
        "tflite_model = converter.convert()\n",
        "\n",
        "# Save the model.\n",
        "with open('backPain.tflite', 'wb') as f:\n",
        "  f.write(tflite_model)"
      ],
      "metadata": {
        "id": "mzordVOYFjX_"
      },
      "execution_count": null,
      "outputs": []
    },
    {
      "cell_type": "code",
      "source": [
        "!cp backPain.tflite \"drive/MyDrive/Capstone Bangkit/Machine Learning/Imam/backPain\""
      ],
      "metadata": {
        "id": "chvtx57SFjYA"
      },
      "execution_count": null,
      "outputs": []
    },
    {
      "cell_type": "markdown",
      "source": [
        "#Anxiety"
      ],
      "metadata": {
        "id": "7c7ZsCg70_Ln"
      }
    },
    {
      "cell_type": "code",
      "source": [
        "def train_val_generators(TRAINING_DIR, VALIDATION_DIR):\n",
        "  \"\"\"\n",
        "  Creates the training and validation data generators\n",
        "  \n",
        "  Args:\n",
        "    TRAINING_DIR (string): directory path containing the training images\n",
        "    VALIDATION_DIR (string): directory path containing the testing/validation images\n",
        "    \n",
        "  Returns:\n",
        "    train_generator, validation_generator - tuple containing the generators\n",
        "  \"\"\"\n",
        "  ### START CODE HERE\n",
        "\n",
        "  # Instantiate the ImageDataGenerator class (don't forget to set the arguments to augment the images)\n",
        "  train_datagen = ImageDataGenerator(rescale=1.0/255,\n",
        "                                     preprocessing_function=rgb_to_gray,\n",
        "                                     rotation_range=45,\n",
        "                                     width_shift_range=0.2,\n",
        "                                     height_shift_range=0.2,\n",
        "                                    #  shear_range=0.4,\n",
        "                                     zoom_range=0.4,\n",
        "                                     horizontal_flip=True,\n",
        "                                    #  fill_mode='nearest'\n",
        "                                     )\n",
        "\n",
        "  # Pass in the appropriate arguments to the flow_from_directory method\n",
        "  train_generator = train_datagen.flow_from_directory(directory=TRAINING_DIR,\n",
        "                                                      batch_size=50,\n",
        "                                                      class_mode='categorical',\n",
        "                                                      target_size=(100, 100))\n",
        "\n",
        "  # Instantiate the ImageDataGenerator class (don't forget to set the rescale argument)\n",
        "  validation_datagen = ImageDataGenerator(rescale=1.0/255,\n",
        "                                          # preprocessing_function=rgb_to_gray,\n",
        "                                          # rotation_range=40,\n",
        "                                          # width_shift_range=0.2,\n",
        "                                          # height_shift_range=0.2,\n",
        "                                          # shear_range=0.2,\n",
        "                                          # zoom_range=0.2,\n",
        "                                          # horizontal_flip=True,\n",
        "                                          # fill_mode='nearest'\n",
        "                                          )\n",
        "\n",
        "  # Pass in the appropriate arguments to the flow_from_directory method\n",
        "  validation_generator = validation_datagen.flow_from_directory(directory=VALIDATION_DIR,\n",
        "                                                                batch_size=50,\n",
        "                                                                class_mode='categorical',\n",
        "                                                                target_size=(100, 100))\n",
        "  ### END CODE HERE\n",
        "  return train_generator, validation_generator"
      ],
      "metadata": {
        "id": "pId18-KY0_L6"
      },
      "execution_count": null,
      "outputs": []
    },
    {
      "cell_type": "code",
      "execution_count": null,
      "metadata": {
        "id": "3FAF_qwY0_L8"
      },
      "outputs": [],
      "source": [
        "!mkdir anxiety"
      ]
    },
    {
      "cell_type": "code",
      "execution_count": null,
      "metadata": {
        "id": "0SdDeMB60_L8"
      },
      "outputs": [],
      "source": [
        "for i in range(len(anxiety)):\n",
        "  src = f\"content/Yoga/{anxiety[i]}\"\n",
        "  dst = f\"anxiety/data/{anxiety[i]}\"\n",
        "  shutil.copytree(src, dst)"
      ]
    },
    {
      "cell_type": "code",
      "execution_count": null,
      "metadata": {
        "id": "EnBJIpgQ0_L9"
      },
      "outputs": [],
      "source": [
        "!mkdir anxiety/training"
      ]
    },
    {
      "cell_type": "code",
      "execution_count": null,
      "metadata": {
        "id": "SiUL10A80_L9"
      },
      "outputs": [],
      "source": [
        "!mkdir anxiety/validation"
      ]
    },
    {
      "cell_type": "code",
      "execution_count": null,
      "metadata": {
        "id": "o1Qh1iy30_L9"
      },
      "outputs": [],
      "source": [
        "for i in range(5):\n",
        "  !mkdir anxiety/training/$i\n",
        "  !mkdir anxiety/validation/$i"
      ]
    },
    {
      "cell_type": "code",
      "execution_count": null,
      "metadata": {
        "id": "PPr7fKWE0_L-"
      },
      "outputs": [],
      "source": [
        "for i in range(5):\n",
        "  source = f\"/content/anxiety/data/{anxiety[i]}/\"\n",
        "  train = f\"/content/anxiety/training/{i}/\"\n",
        "  valid = f\"/content/anxiety/validation/{i}/\"\n",
        "  split = 0.9\n",
        "  split_data(source, train, valid, split)"
      ]
    },
    {
      "cell_type": "code",
      "execution_count": null,
      "metadata": {
        "colab": {
          "base_uri": "https://localhost:8080/"
        },
        "outputId": "ec48935f-e004-44d1-fe0d-541fb17d3e08",
        "id": "7JEfMrGa0_L-"
      },
      "outputs": [
        {
          "output_type": "stream",
          "name": "stdout",
          "text": [
            "Found 1652 images belonging to 5 classes.\n",
            "Found 186 images belonging to 5 classes.\n"
          ]
        }
      ],
      "source": [
        "TRAINING_DIR = \"anxiety/training\"\n",
        "VALIDATION_DIR = \"anxiety/validation\"\n",
        "train_generator, validation_generator = train_val_generators(TRAINING_DIR, VALIDATION_DIR)"
      ]
    },
    {
      "cell_type": "code",
      "source": [
        "for i in range(1,1652):\n",
        "  if 1652%i==0:\n",
        "    print(i)"
      ],
      "metadata": {
        "id": "hhU8yCMq0_L_"
      },
      "execution_count": null,
      "outputs": []
    },
    {
      "cell_type": "code",
      "execution_count": null,
      "metadata": {
        "colab": {
          "base_uri": "https://localhost:8080/"
        },
        "outputId": "c289cc06-822e-45ca-e4f8-11b07ec66d0d",
        "id": "s1YjX7uM0_L_"
      },
      "outputs": [
        {
          "output_type": "stream",
          "name": "stdout",
          "text": [
            "Model: \"sequential_3\"\n",
            "_________________________________________________________________\n",
            " Layer (type)                Output Shape              Param #   \n",
            "=================================================================\n",
            " vgg16 (Functional)          (None, 3, 3, 512)         14714688  \n",
            "                                                                 \n",
            " flatten_3 (Flatten)         (None, 4608)              0         \n",
            "                                                                 \n",
            " dense_3 (Dense)             (None, 5)                 23045     \n",
            "                                                                 \n",
            "=================================================================\n",
            "Total params: 14,737,733\n",
            "Trainable params: 14,737,733\n",
            "Non-trainable params: 0\n",
            "_________________________________________________________________\n"
          ]
        }
      ],
      "source": [
        "from tensorflow.keras.applications import VGG16, InceptionResNetV2 , VGG19\n",
        "model3 = tf.keras.Sequential()\n",
        "model3.add(VGG16(include_top = False,weights = 'imagenet',input_shape= (100,100,3)))\n",
        "model3.add(tf.keras.layers.Flatten())\n",
        "model3.add(tf.keras.layers.Dense(5,activation = 'softmax'))\n",
        "model3.summary()"
      ]
    },
    {
      "cell_type": "code",
      "source": [
        "from tensorflow.keras.optimizers import Adam\n",
        "optimizer = Adam(learning_rate = 0.0001)\n",
        "model3.compile(loss = tf.keras.losses.CategoricalCrossentropy(from_logits=True),optimizer = optimizer,metrics = ['accuracy'])"
      ],
      "metadata": {
        "id": "mn8y7Idm0_MA"
      },
      "execution_count": null,
      "outputs": []
    },
    {
      "cell_type": "code",
      "execution_count": null,
      "metadata": {
        "colab": {
          "base_uri": "https://localhost:8080/"
        },
        "outputId": "fb6fcf75-1c97-4b99-fd11-736ca51f51b2",
        "id": "W4ZBbApg0_MB"
      },
      "outputs": [
        {
          "output_type": "stream",
          "name": "stdout",
          "text": [
            "Epoch 1/50\n",
            "34/34 [==============================] - 42s 1s/step - loss: 1.2769 - accuracy: 0.4492 - val_loss: 0.7638 - val_accuracy: 0.6344\n",
            "Epoch 2/50\n",
            "34/34 [==============================] - 39s 1s/step - loss: 0.8993 - accuracy: 0.6423 - val_loss: 0.5784 - val_accuracy: 0.7581\n",
            "Epoch 3/50\n",
            "34/34 [==============================] - 39s 1s/step - loss: 0.7324 - accuracy: 0.7125 - val_loss: 0.4192 - val_accuracy: 0.8387\n",
            "Epoch 4/50\n",
            "34/34 [==============================] - 40s 1s/step - loss: 0.6422 - accuracy: 0.7464 - val_loss: 0.5801 - val_accuracy: 0.7796\n",
            "Epoch 5/50\n",
            "34/34 [==============================] - 37s 1s/step - loss: 0.7001 - accuracy: 0.7209 - val_loss: 0.5959 - val_accuracy: 0.7634\n",
            "Epoch 6/50\n",
            "34/34 [==============================] - 38s 1s/step - loss: 0.5913 - accuracy: 0.7694 - val_loss: 0.4278 - val_accuracy: 0.8118\n",
            "Epoch 7/50\n",
            "34/34 [==============================] - 38s 1s/step - loss: 0.5831 - accuracy: 0.7748 - val_loss: 0.3552 - val_accuracy: 0.8710\n",
            "Epoch 8/50\n",
            "34/34 [==============================] - 38s 1s/step - loss: 0.6630 - accuracy: 0.7367 - val_loss: 0.4035 - val_accuracy: 0.8602\n",
            "Epoch 9/50\n",
            "34/34 [==============================] - 37s 1s/step - loss: 0.5230 - accuracy: 0.7936 - val_loss: 0.3279 - val_accuracy: 0.8871\n",
            "Epoch 10/50\n",
            "34/34 [==============================] - 38s 1s/step - loss: 0.4348 - accuracy: 0.8269 - val_loss: 0.4010 - val_accuracy: 0.8333\n",
            "Epoch 11/50\n",
            "34/34 [==============================] - 37s 1s/step - loss: 0.5598 - accuracy: 0.7936 - val_loss: 0.4148 - val_accuracy: 0.8280\n",
            "Epoch 12/50\n",
            "34/34 [==============================] - 37s 1s/step - loss: 0.5421 - accuracy: 0.7924 - val_loss: 0.4010 - val_accuracy: 0.8656\n",
            "Epoch 13/50\n",
            "34/34 [==============================] - 37s 1s/step - loss: 0.4798 - accuracy: 0.8196 - val_loss: 0.3238 - val_accuracy: 0.8925\n",
            "Epoch 14/50\n",
            "34/34 [==============================] - 39s 1s/step - loss: 0.3767 - accuracy: 0.8553 - val_loss: 0.4189 - val_accuracy: 0.8387\n",
            "Epoch 15/50\n",
            "34/34 [==============================] - 37s 1s/step - loss: 0.4157 - accuracy: 0.8360 - val_loss: 0.2968 - val_accuracy: 0.8710\n",
            "Epoch 16/50\n",
            "34/34 [==============================] - 39s 1s/step - loss: 0.4605 - accuracy: 0.8263 - val_loss: 0.3344 - val_accuracy: 0.8656\n",
            "Epoch 17/50\n",
            "34/34 [==============================] - 37s 1s/step - loss: 0.3534 - accuracy: 0.8699 - val_loss: 0.3365 - val_accuracy: 0.8925\n",
            "Epoch 18/50\n",
            "34/34 [==============================] - 37s 1s/step - loss: 0.3197 - accuracy: 0.8765 - val_loss: 0.3460 - val_accuracy: 0.8817\n",
            "Epoch 19/50\n",
            "34/34 [==============================] - 37s 1s/step - loss: 0.2807 - accuracy: 0.9056 - val_loss: 0.3285 - val_accuracy: 0.8548\n",
            "Epoch 20/50\n",
            "34/34 [==============================] - 37s 1s/step - loss: 0.3172 - accuracy: 0.8765 - val_loss: 0.3225 - val_accuracy: 0.8978\n",
            "Epoch 21/50\n",
            "34/34 [==============================] - 37s 1s/step - loss: 0.2508 - accuracy: 0.9025 - val_loss: 0.3864 - val_accuracy: 0.8387\n",
            "Epoch 22/50\n",
            "34/34 [==============================] - 38s 1s/step - loss: 0.4660 - accuracy: 0.8347 - val_loss: 0.3912 - val_accuracy: 0.8280\n",
            "Epoch 23/50\n",
            "34/34 [==============================] - 38s 1s/step - loss: 0.4317 - accuracy: 0.8396 - val_loss: 0.4323 - val_accuracy: 0.8333\n",
            "Epoch 24/50\n",
            "34/34 [==============================] - 39s 1s/step - loss: 0.3992 - accuracy: 0.8462 - val_loss: 0.3349 - val_accuracy: 0.8763\n",
            "Epoch 25/50\n",
            "34/34 [==============================] - 36s 1s/step - loss: 0.3140 - accuracy: 0.8916 - val_loss: 0.3046 - val_accuracy: 0.8817\n",
            "Epoch 26/50\n",
            "34/34 [==============================] - ETA: 0s - loss: 0.2783 - accuracy: 0.9001\n",
            "Loss is low so cancelling training!\n",
            "34/34 [==============================] - 38s 1s/step - loss: 0.2783 - accuracy: 0.9001 - val_loss: 0.2643 - val_accuracy: 0.9194\n"
          ]
        }
      ],
      "source": [
        "# Save your model\n",
        "\n",
        "class myCallback(tf.keras.callbacks.Callback):\n",
        "    def on_epoch_end(self, epoch, logs = {}):\n",
        "        if(logs.get('accuracy') > 0.90 and logs.get('val_accuracy')>0.90):\n",
        "            print(\"\\nLoss is low so cancelling training!\")\n",
        "            self.model.stop_training = True\n",
        "\n",
        "callbacks = myCallback()\n",
        "# Train your model\n",
        "history = model3.fit(train_generator,\n",
        "                    epochs=50,\n",
        "                    verbose=1,\n",
        "                    validation_data=validation_generator,\n",
        "                    callbacks=[callbacks])"
      ]
    },
    {
      "cell_type": "code",
      "source": [
        "from matplotlib import pyplot as plt\n",
        "#loss train & validation\n",
        "plt.plot(history.history['loss'], label='Training Loss')\n",
        "plt.plot(history.history['val_loss'], label='Validation Loss')\n",
        "plt.title('Loss Plot')\n",
        "plt.ylabel('Value')\n",
        "plt.xlabel('Epoch')\n",
        "plt.legend(loc=\"upper right\")\n",
        "plt.show()"
      ],
      "metadata": {
        "colab": {
          "base_uri": "https://localhost:8080/",
          "height": 559
        },
        "outputId": "9244ccb9-09a5-474b-ef32-310b2dd406b8",
        "id": "FaSi1B8I0_MB"
      },
      "execution_count": null,
      "outputs": [
        {
          "output_type": "stream",
          "name": "stderr",
          "text": [
            "Exception ignored in: <function _xla_gc_callback at 0x7fadaa004790>\n",
            "Traceback (most recent call last):\n",
            "  File \"/usr/local/lib/python3.10/dist-packages/jax/_src/lib/__init__.py\", line 103, in _xla_gc_callback\n",
            "    def _xla_gc_callback(*args):\n",
            "KeyboardInterrupt: \n"
          ]
        },
        {
          "output_type": "display_data",
          "data": {
            "text/plain": [
              "<Figure size 640x480 with 1 Axes>"
            ],
            "image/png": "[encoded data removed]"
          },
          "metadata": {}
        }
      ]
    },
    {
      "cell_type": "code",
      "source": [
        "#accuracy train & validation\n",
        "plt.plot(history.history['accuracy'], label='Training Accuracy')\n",
        "plt.plot(history.history['val_accuracy'], label='Validation Accuracy')\n",
        "plt.title('Accuracy Plot')\n",
        "plt.ylabel('Value')\n",
        "plt.xlabel('Epoch')\n",
        "plt.legend(loc=\"lower right\")\n",
        "plt.show()"
      ],
      "metadata": {
        "colab": {
          "base_uri": "https://localhost:8080/",
          "height": 472
        },
        "outputId": "b2700339-fa11-4863-e4ee-b593df83c788",
        "id": "5L6Y7iJM0_MC"
      },
      "execution_count": null,
      "outputs": [
        {
          "output_type": "display_data",
          "data": {
            "text/plain": [
              "<Figure size 640x480 with 1 Axes>"
            ],
            "image/png": "[encoded data removed]"
          },
          "metadata": {}
        }
      ]
    },
    {
      "cell_type": "code",
      "source": [
        "import numpy as np\n",
        "from google.colab import files\n",
        "from keras.preprocessing import image\n",
        "import matplotlib.pyplot as plt\n",
        "import matplotlib.image as mpimg\n",
        "import matplotlib.pyplot as plt\n",
        "import matplotlib.image as mpimg\n",
        "%matplotlib inline\n",
        "\n",
        "uploaded = files.upload()\n",
        "\n",
        "for fn in uploaded.keys():\n",
        "\n",
        "  path = fn \n",
        "  img = tf.keras.utils.load_img(path, target_size =(100,100))\n",
        "  imgplot = plt.imshow(img)\n",
        "  x = tf.keras.utils.img_to_array(img)\n",
        "  x = np.expand_dims(x, axis=0)\n",
        "\n",
        "  images = np.vstack([x])\n",
        "  classes = model3.predict(images, batch_size=10)\n",
        "\n",
        "  print(classes)"
      ],
      "metadata": {
        "colab": {
          "base_uri": "https://localhost:8080/",
          "height": 524
        },
        "outputId": "9c2bda9f-e33d-4d1e-eb37-f992a9bf304f",
        "id": "hgRjhXS20_MC"
      },
      "execution_count": null,
      "outputs": [
        {
          "output_type": "display_data",
          "data": {
            "text/plain": [
              "<IPython.core.display.HTML object>"
            ],
            "text/html": [
              "\n",
              "     <input type=\"file\" id=\"files-9512b738-3d94-4772-a258-34890d7e23ea\" name=\"files[]\" multiple disabled\n",
              "        style=\"border:none\" />\n",
              "     <output id=\"result-9512b738-3d94-4772-a258-34890d7e23ea\">\n",
              "      Upload widget is only available when the cell has been executed in the\n",
              "      current browser session. Please rerun this cell to enable.\n",
              "      </output>\n",
              "      <script>// Copyright 2017 Google LLC\n",
              "//\n",
              "// Licensed under the Apache License, Version 2.0 (the \"License\");\n",
              "// you may not use this file except in compliance with the License.\n",
              "// You may obtain a copy of the License at\n",
              "//\n",
              "//      http://www.apache.org/licenses/LICENSE-2.0\n",
              "//\n",
              "// Unless required by applicable law or agreed to in writing, software\n",
              "// distributed under the License is distributed on an \"AS IS\" BASIS,\n",
              "// WITHOUT WARRANTIES OR CONDITIONS OF ANY KIND, either express or implied.\n",
              "// See the License for the specific language governing permissions and\n",
              "// limitations under the License.\n",
              "\n",
              "/**\n",
              " * @fileoverview Helpers for google.colab Python module.\n",
              " */\n",
              "(function(scope) {\n",
              "function span(text, styleAttributes = {}) {\n",
              "  const element = document.createElement('span');\n",
              "  element.textContent = text;\n",
              "  for (const key of Object.keys(styleAttributes)) {\n",
              "    element.style[key] = styleAttributes[key];\n",
              "  }\n",
              "  return element;\n",
              "}\n",
              "\n",
              "// Max number of bytes which will be uploaded at a time.\n",
              "const MAX_PAYLOAD_SIZE = 100 * 1024;\n",
              "\n",
              "function _uploadFiles(inputId, outputId) {\n",
              "  const steps = uploadFilesStep(inputId, outputId);\n",
              "  const outputElement = document.getElementById(outputId);\n",
              "  // Cache steps on the outputElement to make it available for the next call\n",
              "  // to uploadFilesContinue from Python.\n",
              "  outputElement.steps = steps;\n",
              "\n",
              "  return _uploadFilesContinue(outputId);\n",
              "}\n",
              "\n",
              "// This is roughly an async generator (not supported in the browser yet),\n",
              "// where there are multiple asynchronous steps and the Python side is going\n",
              "// to poll for completion of each step.\n",
              "// This uses a Promise to block the python side on completion of each step,\n",
              "// then passes the result of the previous step as the input to the next step.\n",
              "function _uploadFilesContinue(outputId) {\n",
              "  const outputElement = document.getElementById(outputId);\n",
              "  const steps = outputElement.steps;\n",
              "\n",
              "  const next = steps.next(outputElement.lastPromiseValue);\n",
              "  return Promise.resolve(next.value.promise).then((value) => {\n",
              "    // Cache the last promise value to make it available to the next\n",
              "    // step of the generator.\n",
              "    outputElement.lastPromiseValue = value;\n",
              "    return next.value.response;\n",
              "  });\n",
              "}\n",
              "\n",
              "/**\n",
              " * Generator function which is called between each async step of the upload\n",
              " * process.\n",
              " * @param {string} inputId Element ID of the input file picker element.\n",
              " * @param {string} outputId Element ID of the output display.\n",
              " * @return {!Iterable<!Object>} Iterable of next steps.\n",
              " */\n",
              "function* uploadFilesStep(inputId, outputId) {\n",
              "  const inputElement = document.getElementById(inputId);\n",
              "  inputElement.disabled = false;\n",
              "\n",
              "  const outputElement = document.getElementById(outputId);\n",
              "  outputElement.innerHTML = '';\n",
              "\n",
              "  const pickedPromise = new Promise((resolve) => {\n",
              "    inputElement.addEventListener('change', (e) => {\n",
              "      resolve(e.target.files);\n",
              "    });\n",
              "  });\n",
              "\n",
              "  const cancel = document.createElement('button');\n",
              "  inputElement.parentElement.appendChild(cancel);\n",
              "  cancel.textContent = 'Cancel upload';\n",
              "  const cancelPromise = new Promise((resolve) => {\n",
              "    cancel.onclick = () => {\n",
              "      resolve(null);\n",
              "    };\n",
              "  });\n",
              "\n",
              "  // Wait for the user to pick the files.\n",
              "  const files = yield {\n",
              "    promise: Promise.race([pickedPromise, cancelPromise]),\n",
              "    response: {\n",
              "      action: 'starting',\n",
              "    }\n",
              "  };\n",
              "\n",
              "  cancel.remove();\n",
              "\n",
              "  // Disable the input element since further picks are not allowed.\n",
              "  inputElement.disabled = true;\n",
              "\n",
              "  if (!files) {\n",
              "    return {\n",
              "      response: {\n",
              "        action: 'complete',\n",
              "      }\n",
              "    };\n",
              "  }\n",
              "\n",
              "  for (const file of files) {\n",
              "    const li = document.createElement('li');\n",
              "    li.append(span(file.name, {fontWeight: 'bold'}));\n",
              "    li.append(span(\n",
              "        `(${file.type || 'n/a'}) - ${file.size} bytes, ` +\n",
              "        `last modified: ${\n",
              "            file.lastModifiedDate ? file.lastModifiedDate.toLocaleDateString() :\n",
              "                                    'n/a'} - `));\n",
              "    const percent = span('0% done');\n",
              "    li.appendChild(percent);\n",
              "\n",
              "    outputElement.appendChild(li);\n",
              "\n",
              "    const fileDataPromise = new Promise((resolve) => {\n",
              "      const reader = new FileReader();\n",
              "      reader.onload = (e) => {\n",
              "        resolve(e.target.result);\n",
              "      };\n",
              "      reader.readAsArrayBuffer(file);\n",
              "    });\n",
              "    // Wait for the data to be ready.\n",
              "    let fileData = yield {\n",
              "      promise: fileDataPromise,\n",
              "      response: {\n",
              "        action: 'continue',\n",
              "      }\n",
              "    };\n",
              "\n",
              "    // Use a chunked sending to avoid message size limits. See b/62115660.\n",
              "    let position = 0;\n",
              "    do {\n",
              "      const length = Math.min(fileData.byteLength - position, MAX_PAYLOAD_SIZE);\n",
              "      const chunk = new Uint8Array(fileData, position, length);\n",
              "      position += length;\n",
              "\n",
              "      const base64 = btoa(String.fromCharCode.apply(null, chunk));\n",
              "      yield {\n",
              "        response: {\n",
              "          action: 'append',\n",
              "          file: file.name,\n",
              "          data: base64,\n",
              "        },\n",
              "      };\n",
              "\n",
              "      let percentDone = fileData.byteLength === 0 ?\n",
              "          100 :\n",
              "          Math.round((position / fileData.byteLength) * 100);\n",
              "      percent.textContent = `${percentDone}% done`;\n",
              "\n",
              "    } while (position < fileData.byteLength);\n",
              "  }\n",
              "\n",
              "  // All done.\n",
              "  yield {\n",
              "    response: {\n",
              "      action: 'complete',\n",
              "    }\n",
              "  };\n",
              "}\n",
              "\n",
              "scope.google = scope.google || {};\n",
              "scope.google.colab = scope.google.colab || {};\n",
              "scope.google.colab._files = {\n",
              "  _uploadFiles,\n",
              "  _uploadFilesContinue,\n",
              "};\n",
              "})(self);\n",
              "</script> "
            ]
          },
          "metadata": {}
        },
        {
          "output_type": "stream",
          "name": "stdout",
          "text": [
            "Saving Tree.jpeg to Tree.jpeg\n",
            "1/1 [==============================] - 1s 538ms/step\n",
            "[[1. 0. 0. 0. 0.]]\n"
          ]
        },
        {
          "output_type": "display_data",
          "data": {
            "text/plain": [
              "<Figure size 640x480 with 1 Axes>"
            ],
            "image/png": "[encoded data removed]"
          },
          "metadata": {}
        }
      ]
    },
    {
      "cell_type": "code",
      "source": [
        "model3.save('my_model')"
      ],
      "metadata": {
        "colab": {
          "base_uri": "https://localhost:8080/"
        },
        "outputId": "95cebe46-10b2-4210-c84c-41440fdcd170",
        "id": "_1URDvyT0_MD"
      },
      "execution_count": null,
      "outputs": [
        {
          "output_type": "stream",
          "name": "stderr",
          "text": [
            "WARNING:absl:Found untraced functions such as _jit_compiled_convolution_op, _jit_compiled_convolution_op, _jit_compiled_convolution_op, _jit_compiled_convolution_op, _jit_compiled_convolution_op while saving (showing 5 of 13). These functions will not be directly callable after loading.\n"
          ]
        }
      ]
    },
    {
      "cell_type": "code",
      "source": [
        "!zip -r anxiety.zip my_model"
      ],
      "metadata": {
        "colab": {
          "base_uri": "https://localhost:8080/"
        },
        "outputId": "3267c84f-c6a9-4fbc-a506-ffcf7b3aea26",
        "id": "xZOeFUA10_MD"
      },
      "execution_count": null,
      "outputs": [
        {
          "output_type": "stream",
          "name": "stdout",
          "text": [
            "  adding: my_model/ (stored 0%)\n",
            "  adding: my_model/variables/ (stored 0%)\n",
            "  adding: my_model/variables/variables.index (deflated 71%)\n",
            "  adding: my_model/variables/variables.data-00000-of-00001 (deflated 7%)\n",
            "  adding: my_model/keras_metadata.pb (deflated 96%)\n",
            "  adding: my_model/saved_model.pb (deflated 90%)\n",
            "  adding: my_model/fingerprint.pb (stored 0%)\n",
            "  adding: my_model/assets/ (stored 0%)\n"
          ]
        }
      ]
    },
    {
      "cell_type": "code",
      "source": [
        "!cp anxiety.zip \"drive/MyDrive/Capstone Bangkit/Machine Learning/Imam/anxiety\""
      ],
      "metadata": {
        "id": "GxFdI7tH0_ME"
      },
      "execution_count": null,
      "outputs": []
    },
    {
      "cell_type": "code",
      "source": [
        "model3.save('anxiety.h5')"
      ],
      "metadata": {
        "id": "lKQl7ovP0_ME"
      },
      "execution_count": null,
      "outputs": []
    },
    {
      "cell_type": "code",
      "source": [
        "!cp anxiety.h5 \"drive/MyDrive/Capstone Bangkit/Machine Learning/Imam/anxiety\""
      ],
      "metadata": {
        "id": "WjDNke2A0_ME"
      },
      "execution_count": null,
      "outputs": []
    },
    {
      "cell_type": "code",
      "source": [
        "# Convert the model\n",
        "converter = tf.lite.TFLiteConverter.from_saved_model(\"my_model\") # path to the SavedModel directory\n",
        "tflite_model = converter.convert()\n",
        "\n",
        "# Save the model.\n",
        "with open('anxiety.tflite', 'wb') as f:\n",
        "  f.write(tflite_model)"
      ],
      "metadata": {
        "id": "24ppHHg30_MF"
      },
      "execution_count": null,
      "outputs": []
    },
    {
      "cell_type": "code",
      "source": [
        "!cp all.tflite \"drive/MyDrive/Capstone Bangkit/Machine Learning/Imam/anxiety\""
      ],
      "metadata": {
        "id": "CgPiNt890_MF"
      },
      "execution_count": null,
      "outputs": []
    },
    {
      "cell_type": "markdown",
      "source": [
        "#Flexibility (Done)"
      ],
      "metadata": {
        "id": "_94jPd3jQi9A"
      }
    },
    {
      "cell_type": "code",
      "source": [
        "def train_val_generators(TRAINING_DIR, VALIDATION_DIR):\n",
        "  \"\"\"\n",
        "  Creates the training and validation data generators\n",
        "  \n",
        "  Args:\n",
        "    TRAINING_DIR (string): directory path containing the training images\n",
        "    VALIDATION_DIR (string): directory path containing the testing/validation images\n",
        "    \n",
        "  Returns:\n",
        "    train_generator, validation_generator - tuple containing the generators\n",
        "  \"\"\"\n",
        "  ### START CODE HERE\n",
        "\n",
        "  # Instantiate the ImageDataGenerator class (don't forget to set the arguments to augment the images)\n",
        "  train_datagen = ImageDataGenerator(rescale=1.0/255,\n",
        "                                     preprocessing_function=rgb_to_gray,\n",
        "                                     rotation_range=45,\n",
        "                                     width_shift_range=0.4,\n",
        "                                     height_shift_range=0.4,\n",
        "                                    #  shear_range=0.2,\n",
        "                                     zoom_range=0.4,\n",
        "                                     horizontal_flip=True,\n",
        "                                    #  fill_mode='nearest'\n",
        "                                     )\n",
        "\n",
        "  # Pass in the appropriate arguments to the flow_from_directory method\n",
        "  train_generator = train_datagen.flow_from_directory(directory=TRAINING_DIR,\n",
        "                                                      batch_size=50,\n",
        "                                                      class_mode='categorical',\n",
        "                                                      target_size=(100, 100))\n",
        "\n",
        "  # Instantiate the ImageDataGenerator class (don't forget to set the rescale argument)\n",
        "  validation_datagen = ImageDataGenerator(rescale=1.0/255,\n",
        "                                          # preprocessing_function=rgb_to_gray,\n",
        "                                          # rotation_range=40,\n",
        "                                          # width_shift_range=0.2,\n",
        "                                          # height_shift_range=0.2,\n",
        "                                          # shear_range=0.2,\n",
        "                                          # zoom_range=0.2,\n",
        "                                          # horizontal_flip=True,\n",
        "                                          # fill_mode='nearest'\n",
        "                                          )\n",
        "\n",
        "  # Pass in the appropriate arguments to the flow_from_directory method\n",
        "  validation_generator = validation_datagen.flow_from_directory(directory=VALIDATION_DIR,\n",
        "                                                                batch_size=50,\n",
        "                                                                class_mode='categorical',\n",
        "                                                                target_size=(100, 100))\n",
        "  ### END CODE HERE\n",
        "  return train_generator, validation_generator"
      ],
      "metadata": {
        "id": "se0mQ5oOQi9C"
      },
      "execution_count": null,
      "outputs": []
    },
    {
      "cell_type": "code",
      "execution_count": null,
      "metadata": {
        "id": "c78K2Tb4Qi9C"
      },
      "outputs": [],
      "source": [
        "!mkdir flexibility"
      ]
    },
    {
      "cell_type": "code",
      "execution_count": null,
      "metadata": {
        "id": "SvtdD26mQi9D"
      },
      "outputs": [],
      "source": [
        "for i in range(len(flexibility)):\n",
        "  src = f\"content/Yoga/{flexibility[i]}\"\n",
        "  dst = f\"flexibility/data/{flexibility[i]}\"\n",
        "  shutil.copytree(src, dst)"
      ]
    },
    {
      "cell_type": "code",
      "execution_count": null,
      "metadata": {
        "id": "wgWr1aaNQi9D"
      },
      "outputs": [],
      "source": [
        "!mkdir flexibility/training"
      ]
    },
    {
      "cell_type": "code",
      "execution_count": null,
      "metadata": {
        "id": "d2l0hEfMQi9E"
      },
      "outputs": [],
      "source": [
        "!mkdir flexibility/validation"
      ]
    },
    {
      "cell_type": "code",
      "execution_count": null,
      "metadata": {
        "id": "ae2-LhfMQi9E"
      },
      "outputs": [],
      "source": [
        "for i in range(5):\n",
        "  !mkdir flexibility/training/$i\n",
        "  !mkdir flexibility/validation/$i"
      ]
    },
    {
      "cell_type": "code",
      "execution_count": null,
      "metadata": {
        "id": "OvK2r54PQi9E"
      },
      "outputs": [],
      "source": [
        "for i in range(5):\n",
        "  source = f\"/content/flexibility/data/{flexibility[i]}/\"\n",
        "  train = f\"/content/flexibility/training/{i}/\"\n",
        "  valid = f\"/content/flexibility/validation/{i}/\"\n",
        "  split = 0.9\n",
        "  split_data(source, train, valid, split)"
      ]
    },
    {
      "cell_type": "code",
      "execution_count": null,
      "metadata": {
        "colab": {
          "base_uri": "https://localhost:8080/"
        },
        "outputId": "62f944e0-8d54-46ce-b4d5-902a27a7ba9f",
        "id": "iFMqjlAvQi9F"
      },
      "outputs": [
        {
          "output_type": "stream",
          "name": "stdout",
          "text": [
            "Found 1199 images belonging to 5 classes.\n",
            "Found 135 images belonging to 5 classes.\n"
          ]
        }
      ],
      "source": [
        "TRAINING_DIR = \"flexibility/training\"\n",
        "VALIDATION_DIR = \"flexibility/validation\"\n",
        "train_generator, validation_generator = train_val_generators(TRAINING_DIR, VALIDATION_DIR)"
      ]
    },
    {
      "cell_type": "code",
      "source": [
        "for i in range(1,1199):\n",
        "  if 1199%i == 2:\n",
        "    print(i)"
      ],
      "metadata": {
        "colab": {
          "base_uri": "https://localhost:8080/"
        },
        "id": "cGR_0kzAQi9F",
        "outputId": "f8c00832-f6d9-4be1-aecf-e58aadb477da"
      },
      "execution_count": null,
      "outputs": [
        {
          "output_type": "stream",
          "name": "stdout",
          "text": [
            "3\n",
            "7\n",
            "9\n",
            "19\n",
            "21\n",
            "57\n",
            "63\n",
            "133\n",
            "171\n",
            "399\n",
            "1197\n"
          ]
        }
      ]
    },
    {
      "cell_type": "code",
      "execution_count": null,
      "metadata": {
        "colab": {
          "base_uri": "https://localhost:8080/"
        },
        "outputId": "ff366615-2520-41c8-a826-32f6c37291c6",
        "id": "ZAJXUfuKQi9G"
      },
      "outputs": [
        {
          "output_type": "stream",
          "name": "stdout",
          "text": [
            "Model: \"sequential_3\"\n",
            "_________________________________________________________________\n",
            " Layer (type)                Output Shape              Param #   \n",
            "=================================================================\n",
            " vgg16 (Functional)          (None, 3, 3, 512)         14714688  \n",
            "                                                                 \n",
            " flatten_3 (Flatten)         (None, 4608)              0         \n",
            "                                                                 \n",
            " dense_3 (Dense)             (None, 5)                 23045     \n",
            "                                                                 \n",
            "=================================================================\n",
            "Total params: 14,737,733\n",
            "Trainable params: 14,737,733\n",
            "Non-trainable params: 0\n",
            "_________________________________________________________________\n"
          ]
        }
      ],
      "source": [
        "from tensorflow.keras.applications import VGG16, InceptionResNetV2 , VGG19\n",
        "model3 = tf.keras.Sequential()\n",
        "model3.add(VGG16(include_top = False,weights = 'imagenet',input_shape= (100,100,3)))\n",
        "model3.add(tf.keras.layers.Flatten())\n",
        "model3.add(tf.keras.layers.Dense(5,activation = 'softmax'))\n",
        "model3.summary()"
      ]
    },
    {
      "cell_type": "code",
      "source": [
        "from tensorflow.keras.optimizers import Adam\n",
        "optimizer = Adam(learning_rate = 0.0001)\n",
        "model3.compile(loss = tf.keras.losses.CategoricalCrossentropy(from_logits=True),optimizer = optimizer,metrics = ['accuracy'])"
      ],
      "metadata": {
        "id": "SoQIZ4ZEQi9G"
      },
      "execution_count": null,
      "outputs": []
    },
    {
      "cell_type": "code",
      "execution_count": null,
      "metadata": {
        "colab": {
          "base_uri": "https://localhost:8080/"
        },
        "outputId": "02617d6b-face-4354-a1b3-c48bf71710de",
        "id": "8pCxM_Z2Qi9H"
      },
      "outputs": [
        {
          "output_type": "stream",
          "name": "stdout",
          "text": [
            "Epoch 1/50\n",
            "24/24 [==============================] - 41s 1s/step - loss: 1.6435 - accuracy: 0.2269 - val_loss: 1.5989 - val_accuracy: 0.2444\n",
            "Epoch 2/50\n",
            "24/24 [==============================] - 28s 1s/step - loss: 1.5911 - accuracy: 0.2694 - val_loss: 1.5510 - val_accuracy: 0.4000\n",
            "Epoch 3/50\n",
            "24/24 [==============================] - 28s 1s/step - loss: 1.5650 - accuracy: 0.2811 - val_loss: 1.4556 - val_accuracy: 0.5037\n",
            "Epoch 4/50\n",
            "24/24 [==============================] - 28s 1s/step - loss: 1.5314 - accuracy: 0.3420 - val_loss: 1.3748 - val_accuracy: 0.4593\n",
            "Epoch 5/50\n",
            "24/24 [==============================] - 28s 1s/step - loss: 1.4843 - accuracy: 0.3628 - val_loss: 1.0991 - val_accuracy: 0.5778\n",
            "Epoch 6/50\n",
            "24/24 [==============================] - 28s 1s/step - loss: 1.3257 - accuracy: 0.4604 - val_loss: 0.9757 - val_accuracy: 0.6000\n",
            "Epoch 7/50\n",
            "24/24 [==============================] - 28s 1s/step - loss: 1.2025 - accuracy: 0.5238 - val_loss: 0.7601 - val_accuracy: 0.7111\n",
            "Epoch 8/50\n",
            "24/24 [==============================] - 28s 1s/step - loss: 1.1482 - accuracy: 0.5580 - val_loss: 0.6460 - val_accuracy: 0.7630\n",
            "Epoch 9/50\n",
            "24/24 [==============================] - 28s 1s/step - loss: 1.0235 - accuracy: 0.6130 - val_loss: 0.7436 - val_accuracy: 0.7259\n",
            "Epoch 10/50\n",
            "24/24 [==============================] - 27s 1s/step - loss: 0.9264 - accuracy: 0.6422 - val_loss: 0.5467 - val_accuracy: 0.7926\n",
            "Epoch 11/50\n",
            "24/24 [==============================] - 28s 1s/step - loss: 0.8636 - accuracy: 0.6972 - val_loss: 0.6276 - val_accuracy: 0.7333\n",
            "Epoch 12/50\n",
            "24/24 [==============================] - 27s 1s/step - loss: 0.8409 - accuracy: 0.6589 - val_loss: 0.5755 - val_accuracy: 0.7704\n",
            "Epoch 13/50\n",
            "24/24 [==============================] - 27s 1s/step - loss: 0.8213 - accuracy: 0.6864 - val_loss: 0.4503 - val_accuracy: 0.8519\n",
            "Epoch 14/50\n",
            "24/24 [==============================] - 27s 1s/step - loss: 0.7159 - accuracy: 0.7348 - val_loss: 0.4367 - val_accuracy: 0.8444\n",
            "Epoch 15/50\n",
            "24/24 [==============================] - 28s 1s/step - loss: 0.6893 - accuracy: 0.7515 - val_loss: 0.3902 - val_accuracy: 0.8370\n",
            "Epoch 16/50\n",
            "24/24 [==============================] - 28s 1s/step - loss: 0.7048 - accuracy: 0.7381 - val_loss: 0.3695 - val_accuracy: 0.8593\n",
            "Epoch 17/50\n",
            "24/24 [==============================] - 28s 1s/step - loss: 0.6574 - accuracy: 0.7673 - val_loss: 0.3295 - val_accuracy: 0.8667\n",
            "Epoch 18/50\n",
            "24/24 [==============================] - 28s 1s/step - loss: 0.6773 - accuracy: 0.7565 - val_loss: 0.3224 - val_accuracy: 0.9037\n",
            "Epoch 19/50\n",
            "24/24 [==============================] - 27s 1s/step - loss: 0.5767 - accuracy: 0.7823 - val_loss: 0.3631 - val_accuracy: 0.8815\n",
            "Epoch 20/50\n",
            "24/24 [==============================] - 28s 1s/step - loss: 0.5898 - accuracy: 0.7898 - val_loss: 0.3230 - val_accuracy: 0.8963\n",
            "Epoch 21/50\n",
            "24/24 [==============================] - 28s 1s/step - loss: 0.5583 - accuracy: 0.7898 - val_loss: 0.2664 - val_accuracy: 0.9111\n",
            "Epoch 22/50\n",
            "24/24 [==============================] - 28s 1s/step - loss: 0.5760 - accuracy: 0.7848 - val_loss: 0.2687 - val_accuracy: 0.9185\n",
            "Epoch 23/50\n",
            "24/24 [==============================] - 27s 1s/step - loss: 0.4895 - accuracy: 0.8249 - val_loss: 0.4286 - val_accuracy: 0.8519\n",
            "Epoch 24/50\n",
            "24/24 [==============================] - 28s 1s/step - loss: 0.5419 - accuracy: 0.8107 - val_loss: 0.2478 - val_accuracy: 0.9185\n",
            "Epoch 25/50\n",
            "24/24 [==============================] - 27s 1s/step - loss: 0.4716 - accuracy: 0.8207 - val_loss: 0.3817 - val_accuracy: 0.8963\n",
            "Epoch 26/50\n",
            "24/24 [==============================] - 28s 1s/step - loss: 0.4715 - accuracy: 0.8249 - val_loss: 0.2234 - val_accuracy: 0.9333\n",
            "Epoch 27/50\n",
            "24/24 [==============================] - 27s 1s/step - loss: 0.4323 - accuracy: 0.8382 - val_loss: 0.3302 - val_accuracy: 0.9037\n",
            "Epoch 28/50\n",
            "24/24 [==============================] - 27s 1s/step - loss: 0.5089 - accuracy: 0.8190 - val_loss: 0.2789 - val_accuracy: 0.9185\n",
            "Epoch 29/50\n",
            "24/24 [==============================] - 27s 1s/step - loss: 0.4152 - accuracy: 0.8507 - val_loss: 0.2137 - val_accuracy: 0.9185\n",
            "Epoch 30/50\n",
            "24/24 [==============================] - 27s 1s/step - loss: 0.4012 - accuracy: 0.8616 - val_loss: 0.2722 - val_accuracy: 0.9259\n",
            "Epoch 31/50\n",
            "24/24 [==============================] - 27s 1s/step - loss: 0.4240 - accuracy: 0.8415 - val_loss: 0.2994 - val_accuracy: 0.9259\n",
            "Epoch 32/50\n",
            "24/24 [==============================] - 28s 1s/step - loss: 0.4244 - accuracy: 0.8474 - val_loss: 0.2228 - val_accuracy: 0.9185\n",
            "Epoch 33/50\n",
            "24/24 [==============================] - 27s 1s/step - loss: 0.3993 - accuracy: 0.8515 - val_loss: 0.2937 - val_accuracy: 0.8963\n",
            "Epoch 34/50\n",
            "24/24 [==============================] - 27s 1s/step - loss: 0.3827 - accuracy: 0.8632 - val_loss: 0.4153 - val_accuracy: 0.8815\n",
            "Epoch 35/50\n",
            "24/24 [==============================] - 27s 1s/step - loss: 0.4314 - accuracy: 0.8549 - val_loss: 0.3156 - val_accuracy: 0.9185\n",
            "Epoch 36/50\n",
            "24/24 [==============================] - 27s 1s/step - loss: 0.4320 - accuracy: 0.8515 - val_loss: 0.2772 - val_accuracy: 0.9259\n",
            "Epoch 37/50\n",
            "24/24 [==============================] - 29s 1s/step - loss: 0.3874 - accuracy: 0.8574 - val_loss: 0.2298 - val_accuracy: 0.9333\n",
            "Epoch 38/50\n",
            "24/24 [==============================] - 27s 1s/step - loss: 0.4147 - accuracy: 0.8549 - val_loss: 0.3110 - val_accuracy: 0.8889\n",
            "Epoch 39/50\n",
            "24/24 [==============================] - 28s 1s/step - loss: 0.2720 - accuracy: 0.8991 - val_loss: 0.2929 - val_accuracy: 0.9333\n",
            "Epoch 40/50\n",
            "24/24 [==============================] - 28s 1s/step - loss: 0.3632 - accuracy: 0.8707 - val_loss: 0.2779 - val_accuracy: 0.9333\n",
            "Epoch 41/50\n",
            "24/24 [==============================] - 28s 1s/step - loss: 0.3827 - accuracy: 0.8616 - val_loss: 0.2778 - val_accuracy: 0.9185\n",
            "Epoch 42/50\n",
            "24/24 [==============================] - 27s 1s/step - loss: 0.2920 - accuracy: 0.8932 - val_loss: 0.3300 - val_accuracy: 0.9111\n",
            "Epoch 43/50\n",
            "24/24 [==============================] - 28s 1s/step - loss: 0.3348 - accuracy: 0.8766 - val_loss: 0.2435 - val_accuracy: 0.9185\n",
            "Epoch 44/50\n",
            "24/24 [==============================] - 27s 1s/step - loss: 0.3461 - accuracy: 0.8849 - val_loss: 0.2951 - val_accuracy: 0.9259\n",
            "Epoch 45/50\n",
            "24/24 [==============================] - ETA: 0s - loss: 0.2858 - accuracy: 0.9041\n",
            "Loss is low so cancelling training!\n",
            "24/24 [==============================] - 28s 1s/step - loss: 0.2858 - accuracy: 0.9041 - val_loss: 0.2746 - val_accuracy: 0.9259\n"
          ]
        }
      ],
      "source": [
        "# Save your model\n",
        "\n",
        "class myCallback(tf.keras.callbacks.Callback):\n",
        "    def on_epoch_end(self, epoch, logs = {}):\n",
        "        if(logs.get('accuracy') > 0.90 and logs.get('val_accuracy')>0.90):\n",
        "            print(\"\\nLoss is low so cancelling training!\")\n",
        "            self.model.stop_training = True\n",
        "\n",
        "callbacks = myCallback()\n",
        "# Train your model\n",
        "history = model3.fit(train_generator,\n",
        "                    epochs=50,\n",
        "                    verbose=1,\n",
        "                    validation_data=validation_generator,\n",
        "                    callbacks=[callbacks])"
      ]
    },
    {
      "cell_type": "code",
      "source": [
        "from matplotlib import pyplot as plt\n",
        "#loss train & validation\n",
        "plt.plot(history.history['loss'], label='Training Loss')\n",
        "plt.plot(history.history['val_loss'], label='Validation Loss')\n",
        "plt.title('Loss Plot')\n",
        "plt.ylabel('Value')\n",
        "plt.xlabel('Epoch')\n",
        "plt.legend(loc=\"upper right\")\n",
        "plt.show()"
      ],
      "metadata": {
        "colab": {
          "base_uri": "https://localhost:8080/",
          "height": 472
        },
        "outputId": "3b04b911-da9c-4e42-95d8-439af3d8b1f2",
        "id": "tS_a9M-MQi9H"
      },
      "execution_count": null,
      "outputs": [
        {
          "output_type": "display_data",
          "data": {
            "text/plain": [
              "<Figure size 640x480 with 1 Axes>"
            ],
            "image/png": "[encoded data removed]"
          },
          "metadata": {}
        }
      ]
    },
    {
      "cell_type": "code",
      "source": [
        "#accuracy train & validation\n",
        "plt.plot(history.history['accuracy'], label='Training Accuracy')\n",
        "plt.plot(history.history['val_accuracy'], label='Validation Accuracy')\n",
        "plt.title('Accuracy Plot')\n",
        "plt.ylabel('Value')\n",
        "plt.xlabel('Epoch')\n",
        "plt.legend(loc=\"lower right\")\n",
        "plt.show()"
      ],
      "metadata": {
        "colab": {
          "base_uri": "https://localhost:8080/",
          "height": 472
        },
        "outputId": "3e38f7ef-449d-4a54-cb62-0bacc3aeec61",
        "id": "kFuFARifQi9H"
      },
      "execution_count": null,
      "outputs": [
        {
          "output_type": "display_data",
          "data": {
            "text/plain": [
              "<Figure size 640x480 with 1 Axes>"
            ],
            "image/png": "[encoded data removed]"
          },
          "metadata": {}
        }
      ]
    },
    {
      "cell_type": "code",
      "source": [
        "import numpy as np\n",
        "from google.colab import files\n",
        "from keras.preprocessing import image\n",
        "import matplotlib.pyplot as plt\n",
        "import matplotlib.image as mpimg\n",
        "import matplotlib.pyplot as plt\n",
        "import matplotlib.image as mpimg\n",
        "%matplotlib inline\n",
        "\n",
        "uploaded = files.upload()\n",
        "\n",
        "for fn in uploaded.keys():\n",
        "\n",
        "  path = fn \n",
        "  img = tf.keras.utils.load_img(path, target_size =(100,100))\n",
        "  imgplot = plt.imshow(img)\n",
        "  x = tf.keras.utils.img_to_array(img)\n",
        "  x = np.expand_dims(x, axis=0)\n",
        "\n",
        "  images = np.vstack([x])\n",
        "  classes = model3.predict(images, batch_size=10)\n",
        "\n",
        "  print(classes)"
      ],
      "metadata": {
        "colab": {
          "base_uri": "https://localhost:8080/",
          "height": 523
        },
        "outputId": "0b3126c0-7082-4fd1-fca7-344cd2ea90ce",
        "id": "iKzz-wwyQi9I"
      },
      "execution_count": null,
      "outputs": [
        {
          "output_type": "display_data",
          "data": {
            "text/plain": [
              "<IPython.core.display.HTML object>"
            ],
            "text/html": [
              "\n",
              "     <input type=\"file\" id=\"files-8213ccaf-f484-4aa1-a118-97dec486ec6b\" name=\"files[]\" multiple disabled\n",
              "        style=\"border:none\" />\n",
              "     <output id=\"result-8213ccaf-f484-4aa1-a118-97dec486ec6b\">\n",
              "      Upload widget is only available when the cell has been executed in the\n",
              "      current browser session. Please rerun this cell to enable.\n",
              "      </output>\n",
              "      <script>// Copyright 2017 Google LLC\n",
              "//\n",
              "// Licensed under the Apache License, Version 2.0 (the \"License\");\n",
              "// you may not use this file except in compliance with the License.\n",
              "// You may obtain a copy of the License at\n",
              "//\n",
              "//      http://www.apache.org/licenses/LICENSE-2.0\n",
              "//\n",
              "// Unless required by applicable law or agreed to in writing, software\n",
              "// distributed under the License is distributed on an \"AS IS\" BASIS,\n",
              "// WITHOUT WARRANTIES OR CONDITIONS OF ANY KIND, either express or implied.\n",
              "// See the License for the specific language governing permissions and\n",
              "// limitations under the License.\n",
              "\n",
              "/**\n",
              " * @fileoverview Helpers for google.colab Python module.\n",
              " */\n",
              "(function(scope) {\n",
              "function span(text, styleAttributes = {}) {\n",
              "  const element = document.createElement('span');\n",
              "  element.textContent = text;\n",
              "  for (const key of Object.keys(styleAttributes)) {\n",
              "    element.style[key] = styleAttributes[key];\n",
              "  }\n",
              "  return element;\n",
              "}\n",
              "\n",
              "// Max number of bytes which will be uploaded at a time.\n",
              "const MAX_PAYLOAD_SIZE = 100 * 1024;\n",
              "\n",
              "function _uploadFiles(inputId, outputId) {\n",
              "  const steps = uploadFilesStep(inputId, outputId);\n",
              "  const outputElement = document.getElementById(outputId);\n",
              "  // Cache steps on the outputElement to make it available for the next call\n",
              "  // to uploadFilesContinue from Python.\n",
              "  outputElement.steps = steps;\n",
              "\n",
              "  return _uploadFilesContinue(outputId);\n",
              "}\n",
              "\n",
              "// This is roughly an async generator (not supported in the browser yet),\n",
              "// where there are multiple asynchronous steps and the Python side is going\n",
              "// to poll for completion of each step.\n",
              "// This uses a Promise to block the python side on completion of each step,\n",
              "// then passes the result of the previous step as the input to the next step.\n",
              "function _uploadFilesContinue(outputId) {\n",
              "  const outputElement = document.getElementById(outputId);\n",
              "  const steps = outputElement.steps;\n",
              "\n",
              "  const next = steps.next(outputElement.lastPromiseValue);\n",
              "  return Promise.resolve(next.value.promise).then((value) => {\n",
              "    // Cache the last promise value to make it available to the next\n",
              "    // step of the generator.\n",
              "    outputElement.lastPromiseValue = value;\n",
              "    return next.value.response;\n",
              "  });\n",
              "}\n",
              "\n",
              "/**\n",
              " * Generator function which is called between each async step of the upload\n",
              " * process.\n",
              " * @param {string} inputId Element ID of the input file picker element.\n",
              " * @param {string} outputId Element ID of the output display.\n",
              " * @return {!Iterable<!Object>} Iterable of next steps.\n",
              " */\n",
              "function* uploadFilesStep(inputId, outputId) {\n",
              "  const inputElement = document.getElementById(inputId);\n",
              "  inputElement.disabled = false;\n",
              "\n",
              "  const outputElement = document.getElementById(outputId);\n",
              "  outputElement.innerHTML = '';\n",
              "\n",
              "  const pickedPromise = new Promise((resolve) => {\n",
              "    inputElement.addEventListener('change', (e) => {\n",
              "      resolve(e.target.files);\n",
              "    });\n",
              "  });\n",
              "\n",
              "  const cancel = document.createElement('button');\n",
              "  inputElement.parentElement.appendChild(cancel);\n",
              "  cancel.textContent = 'Cancel upload';\n",
              "  const cancelPromise = new Promise((resolve) => {\n",
              "    cancel.onclick = () => {\n",
              "      resolve(null);\n",
              "    };\n",
              "  });\n",
              "\n",
              "  // Wait for the user to pick the files.\n",
              "  const files = yield {\n",
              "    promise: Promise.race([pickedPromise, cancelPromise]),\n",
              "    response: {\n",
              "      action: 'starting',\n",
              "    }\n",
              "  };\n",
              "\n",
              "  cancel.remove();\n",
              "\n",
              "  // Disable the input element since further picks are not allowed.\n",
              "  inputElement.disabled = true;\n",
              "\n",
              "  if (!files) {\n",
              "    return {\n",
              "      response: {\n",
              "        action: 'complete',\n",
              "      }\n",
              "    };\n",
              "  }\n",
              "\n",
              "  for (const file of files) {\n",
              "    const li = document.createElement('li');\n",
              "    li.append(span(file.name, {fontWeight: 'bold'}));\n",
              "    li.append(span(\n",
              "        `(${file.type || 'n/a'}) - ${file.size} bytes, ` +\n",
              "        `last modified: ${\n",
              "            file.lastModifiedDate ? file.lastModifiedDate.toLocaleDateString() :\n",
              "                                    'n/a'} - `));\n",
              "    const percent = span('0% done');\n",
              "    li.appendChild(percent);\n",
              "\n",
              "    outputElement.appendChild(li);\n",
              "\n",
              "    const fileDataPromise = new Promise((resolve) => {\n",
              "      const reader = new FileReader();\n",
              "      reader.onload = (e) => {\n",
              "        resolve(e.target.result);\n",
              "      };\n",
              "      reader.readAsArrayBuffer(file);\n",
              "    });\n",
              "    // Wait for the data to be ready.\n",
              "    let fileData = yield {\n",
              "      promise: fileDataPromise,\n",
              "      response: {\n",
              "        action: 'continue',\n",
              "      }\n",
              "    };\n",
              "\n",
              "    // Use a chunked sending to avoid message size limits. See b/62115660.\n",
              "    let position = 0;\n",
              "    do {\n",
              "      const length = Math.min(fileData.byteLength - position, MAX_PAYLOAD_SIZE);\n",
              "      const chunk = new Uint8Array(fileData, position, length);\n",
              "      position += length;\n",
              "\n",
              "      const base64 = btoa(String.fromCharCode.apply(null, chunk));\n",
              "      yield {\n",
              "        response: {\n",
              "          action: 'append',\n",
              "          file: file.name,\n",
              "          data: base64,\n",
              "        },\n",
              "      };\n",
              "\n",
              "      let percentDone = fileData.byteLength === 0 ?\n",
              "          100 :\n",
              "          Math.round((position / fileData.byteLength) * 100);\n",
              "      percent.textContent = `${percentDone}% done`;\n",
              "\n",
              "    } while (position < fileData.byteLength);\n",
              "  }\n",
              "\n",
              "  // All done.\n",
              "  yield {\n",
              "    response: {\n",
              "      action: 'complete',\n",
              "    }\n",
              "  };\n",
              "}\n",
              "\n",
              "scope.google = scope.google || {};\n",
              "scope.google.colab = scope.google.colab || {};\n",
              "scope.google.colab._files = {\n",
              "  _uploadFiles,\n",
              "  _uploadFilesContinue,\n",
              "};\n",
              "})(self);\n",
              "</script> "
            ]
          },
          "metadata": {}
        },
        {
          "output_type": "stream",
          "name": "stdout",
          "text": [
            "Saving bow.jpeg to bow.jpeg\n",
            "1/1 [==============================] - 1s 536ms/step\n",
            "[[0. 1. 0. 0. 0.]]\n"
          ]
        },
        {
          "output_type": "display_data",
          "data": {
            "text/plain": [
              "<Figure size 640x480 with 1 Axes>"
            ],
            "image/png": "[encoded data removed]"
          },
          "metadata": {}
        }
      ]
    },
    {
      "cell_type": "code",
      "source": [
        "model3.save('my_model')"
      ],
      "metadata": {
        "colab": {
          "base_uri": "https://localhost:8080/"
        },
        "outputId": "f54bc1e5-564c-4e2e-bb78-859f88fc3f5e",
        "id": "SIHqia4HQi9I"
      },
      "execution_count": null,
      "outputs": [
        {
          "output_type": "stream",
          "name": "stderr",
          "text": [
            "WARNING:absl:Found untraced functions such as _jit_compiled_convolution_op, _jit_compiled_convolution_op, _jit_compiled_convolution_op, _jit_compiled_convolution_op, _jit_compiled_convolution_op while saving (showing 5 of 13). These functions will not be directly callable after loading.\n"
          ]
        }
      ]
    },
    {
      "cell_type": "code",
      "source": [
        "!zip -r flexibility.zip my_model"
      ],
      "metadata": {
        "colab": {
          "base_uri": "https://localhost:8080/"
        },
        "outputId": "eef63233-f27e-480b-f3c2-b2589910c16d",
        "id": "7fixw4SyQi9J"
      },
      "execution_count": null,
      "outputs": [
        {
          "output_type": "stream",
          "name": "stdout",
          "text": [
            "  adding: my_model/ (stored 0%)\n",
            "  adding: my_model/variables/ (stored 0%)\n",
            "  adding: my_model/variables/variables.index (deflated 71%)\n",
            "  adding: my_model/variables/variables.data-00000-of-00001 (deflated 7%)\n",
            "  adding: my_model/keras_metadata.pb (deflated 96%)\n",
            "  adding: my_model/saved_model.pb (deflated 90%)\n",
            "  adding: my_model/fingerprint.pb (stored 0%)\n",
            "  adding: my_model/assets/ (stored 0%)\n"
          ]
        }
      ]
    },
    {
      "cell_type": "code",
      "source": [
        "!cp flexibility.zip \"drive/MyDrive/Capstone Bangkit/Machine Learning/Imam/flexibility\""
      ],
      "metadata": {
        "id": "TNZz9yAtQi9K"
      },
      "execution_count": null,
      "outputs": []
    },
    {
      "cell_type": "code",
      "source": [
        "model3.save('flexibility.h5')"
      ],
      "metadata": {
        "id": "RpltGeKaQi9K"
      },
      "execution_count": null,
      "outputs": []
    },
    {
      "cell_type": "code",
      "source": [
        "!cp flexibility.h5 \"drive/MyDrive/Capstone Bangkit/Machine Learning/Imam/flexibility\""
      ],
      "metadata": {
        "id": "oQCTrty9Qi9K"
      },
      "execution_count": null,
      "outputs": []
    },
    {
      "cell_type": "code",
      "source": [
        "# Convert the model\n",
        "converter = tf.lite.TFLiteConverter.from_saved_model(\"my_model\") # path to the SavedModel directory\n",
        "tflite_model = converter.convert()\n",
        "\n",
        "# Save the model.\n",
        "with open('flexibility.tflite', 'wb') as f:\n",
        "  f.write(tflite_model)"
      ],
      "metadata": {
        "id": "mvMz546JQi9L"
      },
      "execution_count": null,
      "outputs": []
    },
    {
      "cell_type": "code",
      "source": [
        "!cp flexibility.tflite \"drive/MyDrive/Capstone Bangkit/Machine Learning/Imam/flexibility\""
      ],
      "metadata": {
        "id": "Kc2oKSHOQi9L"
      },
      "execution_count": null,
      "outputs": []
    },
    {
      "cell_type": "markdown",
      "source": [
        "#NeckPain (Done)"
      ],
      "metadata": {
        "id": "q9RniFTzRfCe"
      }
    },
    {
      "cell_type": "code",
      "source": [
        "def train_val_generators(TRAINING_DIR, VALIDATION_DIR):\n",
        "  \"\"\"\n",
        "  Creates the training and validation data generators\n",
        "  \n",
        "  Args:\n",
        "    TRAINING_DIR (string): directory path containing the training images\n",
        "    VALIDATION_DIR (string): directory path containing the testing/validation images\n",
        "    \n",
        "  Returns:\n",
        "    train_generator, validation_generator - tuple containing the generators\n",
        "  \"\"\"\n",
        "  ### START CODE HERE\n",
        "\n",
        "  # Instantiate the ImageDataGenerator class (don't forget to set the arguments to augment the images)\n",
        "  train_datagen = ImageDataGenerator(rescale=1.0/255,\n",
        "                                     preprocessing_function=rgb_to_gray,\n",
        "                                     rotation_range=45,\n",
        "                                     width_shift_range=0.4,\n",
        "                                     height_shift_range=0.4,\n",
        "                                    #  shear_range=0.4,\n",
        "                                     zoom_range=0.4,\n",
        "                                     horizontal_flip=True,\n",
        "                                    #  fill_mode='nearest'\n",
        "                                     )\n",
        "\n",
        "  # Pass in the appropriate arguments to the flow_from_directory method\n",
        "  train_generator = train_datagen.flow_from_directory(directory=TRAINING_DIR,\n",
        "                                                      batch_size=50,\n",
        "                                                      class_mode='categorical',\n",
        "                                                      target_size=(100, 100))\n",
        "\n",
        "  # Instantiate the ImageDataGenerator class (don't forget to set the rescale argument)\n",
        "  validation_datagen = ImageDataGenerator(rescale=1.0/255,\n",
        "                                          # preprocessing_function=rgb_to_gray,\n",
        "                                          # rotation_range=40,\n",
        "                                          # width_shift_range=0.2,\n",
        "                                          # height_shift_range=0.2,\n",
        "                                          # shear_range=0.2,\n",
        "                                          # zoom_range=0.2,\n",
        "                                          # horizontal_flip=True,\n",
        "                                          # fill_mode='nearest'\n",
        "                                          )\n",
        "\n",
        "  # Pass in the appropriate arguments to the flow_from_directory method\n",
        "  validation_generator = validation_datagen.flow_from_directory(directory=VALIDATION_DIR,\n",
        "                                                                batch_size=50,\n",
        "                                                                class_mode='categorical',\n",
        "                                                                target_size=(100, 100))\n",
        "  ### END CODE HERE\n",
        "  return train_generator, validation_generator"
      ],
      "metadata": {
        "id": "Ye85Rar_RfCv"
      },
      "execution_count": null,
      "outputs": []
    },
    {
      "cell_type": "code",
      "execution_count": null,
      "metadata": {
        "id": "fdiclblARfCw"
      },
      "outputs": [],
      "source": [
        "!mkdir neckPain"
      ]
    },
    {
      "cell_type": "code",
      "execution_count": null,
      "metadata": {
        "id": "pnOXVEbcRfCw"
      },
      "outputs": [],
      "source": [
        "for i in range(len(neckPain)):\n",
        "  src = f\"content/Yoga/{neckPain[i]}\"\n",
        "  dst = f\"neckPain/data/{neckPain[i]}\"\n",
        "  shutil.copytree(src, dst)"
      ]
    },
    {
      "cell_type": "code",
      "execution_count": null,
      "metadata": {
        "id": "GdcTEjZORfCw"
      },
      "outputs": [],
      "source": [
        "!mkdir neckPain/training"
      ]
    },
    {
      "cell_type": "code",
      "execution_count": null,
      "metadata": {
        "id": "QdYppYpxRfCx"
      },
      "outputs": [],
      "source": [
        "!mkdir neckPain/validation"
      ]
    },
    {
      "cell_type": "code",
      "execution_count": null,
      "metadata": {
        "id": "Qt2j_GBxRfCx"
      },
      "outputs": [],
      "source": [
        "for i in range(5):\n",
        "  !mkdir neckPain/training/$i\n",
        "  !mkdir neckPain/validation/$i"
      ]
    },
    {
      "cell_type": "code",
      "execution_count": null,
      "metadata": {
        "id": "WXuyre7gRfCx"
      },
      "outputs": [],
      "source": [
        "for i in range(5):\n",
        "  source = f\"/content/neckPain/data/{neckPain[i]}/\"\n",
        "  train = f\"/content/neckPain/training/{i}/\"\n",
        "  valid = f\"/content/neckPain/validation/{i}/\"\n",
        "  split = 0.9\n",
        "  split_data(source, train, valid, split)"
      ]
    },
    {
      "cell_type": "code",
      "execution_count": null,
      "metadata": {
        "colab": {
          "base_uri": "https://localhost:8080/"
        },
        "outputId": "4e8af603-aace-40c3-f67c-07c9745152cf",
        "id": "3NRVXgUVRfCy"
      },
      "outputs": [
        {
          "output_type": "stream",
          "name": "stdout",
          "text": [
            "Found 1679 images belonging to 5 classes.\n",
            "Found 189 images belonging to 5 classes.\n"
          ]
        }
      ],
      "source": [
        "TRAINING_DIR = \"neckPain/training\"\n",
        "VALIDATION_DIR = \"neckPain/validation\"\n",
        "train_generator, validation_generator = train_val_generators(TRAINING_DIR, VALIDATION_DIR)"
      ]
    },
    {
      "cell_type": "code",
      "source": [
        "for i in range(1,1679):\n",
        "  if 1679%i == 2:\n",
        "    print(i)"
      ],
      "metadata": {
        "colab": {
          "base_uri": "https://localhost:8080/"
        },
        "id": "oD69XczKRfCy",
        "outputId": "0149c271-15c5-441a-a36a-72766c8aad19"
      },
      "execution_count": null,
      "outputs": [
        {
          "output_type": "stream",
          "name": "stdout",
          "text": [
            "3\n",
            "13\n",
            "39\n",
            "43\n",
            "129\n",
            "559\n",
            "1677\n"
          ]
        }
      ]
    },
    {
      "cell_type": "code",
      "execution_count": null,
      "metadata": {
        "colab": {
          "base_uri": "https://localhost:8080/"
        },
        "outputId": "d668c784-e042-42b8-938d-722d42ed7008",
        "id": "j7TgMswqRfCz"
      },
      "outputs": [
        {
          "output_type": "stream",
          "name": "stdout",
          "text": [
            "Model: \"sequential_2\"\n",
            "_________________________________________________________________\n",
            " Layer (type)                Output Shape              Param #   \n",
            "=================================================================\n",
            " vgg16 (Functional)          (None, 3, 3, 512)         14714688  \n",
            "                                                                 \n",
            " flatten_2 (Flatten)         (None, 4608)              0         \n",
            "                                                                 \n",
            " dense_2 (Dense)             (None, 5)                 23045     \n",
            "                                                                 \n",
            "=================================================================\n",
            "Total params: 14,737,733\n",
            "Trainable params: 14,737,733\n",
            "Non-trainable params: 0\n",
            "_________________________________________________________________\n"
          ]
        }
      ],
      "source": [
        "from tensorflow.keras.applications import VGG16, InceptionResNetV2 , VGG19\n",
        "model3 = tf.keras.Sequential()\n",
        "model3.add(VGG16(include_top = False,weights = 'imagenet',input_shape= (100,100,3)))\n",
        "model3.add(tf.keras.layers.Flatten())\n",
        "model3.add(tf.keras.layers.Dense(5,activation = 'softmax'))\n",
        "model3.summary()"
      ]
    },
    {
      "cell_type": "code",
      "source": [
        "from tensorflow.keras.optimizers import Adam\n",
        "optimizer = Adam(learning_rate = 0.0001)\n",
        "model3.compile(loss = tf.keras.losses.CategoricalCrossentropy(from_logits=True),optimizer = optimizer,metrics = ['accuracy'])"
      ],
      "metadata": {
        "id": "x7MjDzcTRfCz"
      },
      "execution_count": null,
      "outputs": []
    },
    {
      "cell_type": "code",
      "execution_count": null,
      "metadata": {
        "colab": {
          "base_uri": "https://localhost:8080/"
        },
        "outputId": "e9709666-a574-4012-d207-c282a5f26e43",
        "id": "mgAT16lURfCz"
      },
      "outputs": [
        {
          "output_type": "stream",
          "name": "stderr",
          "text": [
            "/usr/local/lib/python3.10/dist-packages/PIL/Image.py:975: UserWarning: Palette images with Transparency expressed in bytes should be converted to RGBA images\n",
            "  warnings.warn(\n"
          ]
        },
        {
          "output_type": "stream",
          "name": "stdout",
          "text": [
            "Epoch 1/50\n"
          ]
        },
        {
          "output_type": "stream",
          "name": "stderr",
          "text": [
            "/usr/local/lib/python3.10/dist-packages/keras/backend.py:5561: UserWarning: \"`categorical_crossentropy` received `from_logits=True`, but the `output` argument was produced by a Softmax activation and thus does not represent logits. Was this intended?\n",
            "  output, from_logits = _get_logits(\n"
          ]
        },
        {
          "output_type": "stream",
          "name": "stdout",
          "text": [
            "34/34 [==============================] - 52s 1s/step - loss: 1.6002 - accuracy: 0.2787 - val_loss: 1.5093 - val_accuracy: 0.3598\n",
            "Epoch 2/50\n",
            "34/34 [==============================] - 39s 1s/step - loss: 1.5460 - accuracy: 0.3115 - val_loss: 1.4765 - val_accuracy: 0.3862\n",
            "Epoch 3/50\n",
            "34/34 [==============================] - 39s 1s/step - loss: 1.4423 - accuracy: 0.3681 - val_loss: 1.1332 - val_accuracy: 0.6138\n",
            "Epoch 4/50\n",
            "34/34 [==============================] - 39s 1s/step - loss: 1.2257 - accuracy: 0.4949 - val_loss: 0.8273 - val_accuracy: 0.7143\n",
            "Epoch 5/50\n",
            "34/34 [==============================] - 42s 1s/step - loss: 1.0932 - accuracy: 0.5610 - val_loss: 0.6723 - val_accuracy: 0.7725\n",
            "Epoch 6/50\n",
            "34/34 [==============================] - 40s 1s/step - loss: 0.9200 - accuracy: 0.6552 - val_loss: 0.5347 - val_accuracy: 0.8254\n",
            "Epoch 7/50\n",
            "34/34 [==============================] - 40s 1s/step - loss: 0.8817 - accuracy: 0.6730 - val_loss: 0.4122 - val_accuracy: 0.8571\n",
            "Epoch 8/50\n",
            "34/34 [==============================] - 38s 1s/step - loss: 0.7551 - accuracy: 0.7254 - val_loss: 0.3687 - val_accuracy: 0.8730\n",
            "Epoch 9/50\n",
            "34/34 [==============================] - 38s 1s/step - loss: 0.7821 - accuracy: 0.7004 - val_loss: 0.4688 - val_accuracy: 0.8360\n",
            "Epoch 10/50\n",
            "34/34 [==============================] - 38s 1s/step - loss: 0.7143 - accuracy: 0.7266 - val_loss: 0.2258 - val_accuracy: 0.9259\n",
            "Epoch 11/50\n",
            "34/34 [==============================] - 38s 1s/step - loss: 0.6073 - accuracy: 0.7677 - val_loss: 0.2970 - val_accuracy: 0.9101\n",
            "Epoch 12/50\n",
            "34/34 [==============================] - 37s 1s/step - loss: 0.6729 - accuracy: 0.7451 - val_loss: 0.2413 - val_accuracy: 0.9259\n",
            "Epoch 13/50\n",
            "34/34 [==============================] - 38s 1s/step - loss: 0.6506 - accuracy: 0.7487 - val_loss: 0.3287 - val_accuracy: 0.8783\n",
            "Epoch 14/50\n",
            "34/34 [==============================] - 38s 1s/step - loss: 0.6035 - accuracy: 0.7761 - val_loss: 0.2161 - val_accuracy: 0.9418\n",
            "Epoch 15/50\n",
            "34/34 [==============================] - 38s 1s/step - loss: 0.5254 - accuracy: 0.8088 - val_loss: 0.2549 - val_accuracy: 0.9312\n",
            "Epoch 16/50\n",
            "34/34 [==============================] - 36s 1s/step - loss: 0.5106 - accuracy: 0.8148 - val_loss: 0.2462 - val_accuracy: 0.9153\n",
            "Epoch 17/50\n",
            "34/34 [==============================] - 38s 1s/step - loss: 0.4918 - accuracy: 0.8177 - val_loss: 0.2311 - val_accuracy: 0.9365\n",
            "Epoch 18/50\n",
            "34/34 [==============================] - 38s 1s/step - loss: 0.5048 - accuracy: 0.8314 - val_loss: 0.2650 - val_accuracy: 0.9048\n",
            "Epoch 19/50\n",
            "34/34 [==============================] - 38s 1s/step - loss: 0.4902 - accuracy: 0.8243 - val_loss: 0.1843 - val_accuracy: 0.9365\n",
            "Epoch 20/50\n",
            "34/34 [==============================] - 38s 1s/step - loss: 0.4207 - accuracy: 0.8511 - val_loss: 0.1680 - val_accuracy: 0.9471\n",
            "Epoch 21/50\n",
            "34/34 [==============================] - 37s 1s/step - loss: 0.4363 - accuracy: 0.8440 - val_loss: 0.2048 - val_accuracy: 0.9418\n",
            "Epoch 22/50\n",
            "34/34 [==============================] - 38s 1s/step - loss: 0.4298 - accuracy: 0.8344 - val_loss: 0.1705 - val_accuracy: 0.9471\n",
            "Epoch 23/50\n",
            "34/34 [==============================] - 38s 1s/step - loss: 0.3896 - accuracy: 0.8606 - val_loss: 0.1589 - val_accuracy: 0.9418\n",
            "Epoch 24/50\n",
            "34/34 [==============================] - 38s 1s/step - loss: 0.4159 - accuracy: 0.8493 - val_loss: 0.2125 - val_accuracy: 0.9153\n",
            "Epoch 25/50\n",
            "34/34 [==============================] - 38s 1s/step - loss: 0.3841 - accuracy: 0.8666 - val_loss: 0.2182 - val_accuracy: 0.9471\n",
            "Epoch 26/50\n",
            "34/34 [==============================] - 38s 1s/step - loss: 0.4486 - accuracy: 0.8434 - val_loss: 0.3753 - val_accuracy: 0.8836\n",
            "Epoch 27/50\n",
            "34/34 [==============================] - 38s 1s/step - loss: 0.4005 - accuracy: 0.8660 - val_loss: 0.1764 - val_accuracy: 0.9259\n",
            "Epoch 28/50\n",
            "34/34 [==============================] - 38s 1s/step - loss: 0.3588 - accuracy: 0.8696 - val_loss: 0.1370 - val_accuracy: 0.9630\n",
            "Epoch 29/50\n",
            "34/34 [==============================] - 39s 1s/step - loss: 0.3304 - accuracy: 0.8839 - val_loss: 0.1453 - val_accuracy: 0.9471\n",
            "Epoch 30/50\n",
            "34/34 [==============================] - 38s 1s/step - loss: 0.3200 - accuracy: 0.8839 - val_loss: 0.1459 - val_accuracy: 0.9577\n",
            "Epoch 31/50\n",
            "34/34 [==============================] - 39s 1s/step - loss: 0.3275 - accuracy: 0.8874 - val_loss: 0.2075 - val_accuracy: 0.9418\n",
            "Epoch 32/50\n",
            "34/34 [==============================] - 38s 1s/step - loss: 0.3075 - accuracy: 0.8934 - val_loss: 0.1309 - val_accuracy: 0.9630\n",
            "Epoch 33/50\n",
            "34/34 [==============================] - 38s 1s/step - loss: 0.3204 - accuracy: 0.8868 - val_loss: 0.1488 - val_accuracy: 0.9577\n",
            "Epoch 34/50\n",
            "34/34 [==============================] - 38s 1s/step - loss: 0.3142 - accuracy: 0.8851 - val_loss: 0.1484 - val_accuracy: 0.9630\n",
            "Epoch 35/50\n",
            "34/34 [==============================] - ETA: 0s - loss: 0.2825 - accuracy: 0.9035\n",
            "Loss is low so cancelling training!\n",
            "34/34 [==============================] - 41s 1s/step - loss: 0.2825 - accuracy: 0.9035 - val_loss: 0.2238 - val_accuracy: 0.9418\n"
          ]
        }
      ],
      "source": [
        "# Save your model\n",
        "\n",
        "class myCallback(tf.keras.callbacks.Callback):\n",
        "    def on_epoch_end(self, epoch, logs = {}):\n",
        "        if(logs.get('accuracy') > 0.90 and logs.get('val_accuracy')>0.90):\n",
        "            print(\"\\nLoss is low so cancelling training!\")\n",
        "            self.model.stop_training = True\n",
        "\n",
        "callbacks = myCallback()\n",
        "# Train your model\n",
        "history = model3.fit(train_generator,\n",
        "                    epochs=50,\n",
        "                    verbose=1,\n",
        "                    validation_data=validation_generator,\n",
        "                    callbacks=[callbacks])"
      ]
    },
    {
      "cell_type": "code",
      "source": [
        "from matplotlib import pyplot as plt\n",
        "#loss train & validation\n",
        "plt.plot(history.history['loss'], label='Training Loss')\n",
        "plt.plot(history.history['val_loss'], label='Validation Loss')\n",
        "plt.title('Loss Plot')\n",
        "plt.ylabel('Value')\n",
        "plt.xlabel('Epoch')\n",
        "plt.legend(loc=\"upper right\")\n",
        "plt.show()"
      ],
      "metadata": {
        "colab": {
          "base_uri": "https://localhost:8080/",
          "height": 472
        },
        "outputId": "7d1dc2d8-c7a8-4ee3-f0cd-1a875830d9fa",
        "id": "cuE3l62ERfC0"
      },
      "execution_count": null,
      "outputs": [
        {
          "output_type": "display_data",
          "data": {
            "text/plain": [
              "<Figure size 640x480 with 1 Axes>"
            ],
            "image/png": "[encoded data removed]"
          },
          "metadata": {}
        }
      ]
    },
    {
      "cell_type": "code",
      "source": [
        "#accuracy train & validation\n",
        "plt.plot(history.history['accuracy'], label='Training Accuracy')\n",
        "plt.plot(history.history['val_accuracy'], label='Validation Accuracy')\n",
        "plt.title('Accuracy Plot')\n",
        "plt.ylabel('Value')\n",
        "plt.xlabel('Epoch')\n",
        "plt.legend(loc=\"lower right\")\n",
        "plt.show()"
      ],
      "metadata": {
        "colab": {
          "base_uri": "https://localhost:8080/",
          "height": 472
        },
        "outputId": "b4448adf-35f5-480f-fb3f-98421c1d8dea",
        "id": "9jp2zynvRfC0"
      },
      "execution_count": null,
      "outputs": [
        {
          "output_type": "display_data",
          "data": {
            "text/plain": [
              "<Figure size 640x480 with 1 Axes>"
            ],
            "image/png": "[encoded data removed]"
          },
          "metadata": {}
        }
      ]
    },
    {
      "cell_type": "code",
      "source": [
        "import numpy as np\n",
        "from google.colab import files\n",
        "from keras.preprocessing import image\n",
        "import matplotlib.pyplot as plt\n",
        "import matplotlib.image as mpimg\n",
        "import matplotlib.pyplot as plt\n",
        "import matplotlib.image as mpimg\n",
        "%matplotlib inline\n",
        "\n",
        "uploaded = files.upload()\n",
        "\n",
        "for fn in uploaded.keys():\n",
        "\n",
        "  path = fn \n",
        "  img = tf.keras.utils.load_img(path, target_size =(100,100))\n",
        "  imgplot = plt.imshow(img)\n",
        "  x = tf.keras.utils.img_to_array(img)\n",
        "  x = np.expand_dims(x, axis=0)\n",
        "\n",
        "  images = np.vstack([x])\n",
        "  classes = model3.predict(images, batch_size=10)\n",
        "\n",
        "  print(classes)"
      ],
      "metadata": {
        "colab": {
          "base_uri": "https://localhost:8080/",
          "height": 524
        },
        "outputId": "4f9d2c7f-9a38-4527-b978-754e60bcdd5b",
        "id": "c4tt1IzWRfC1"
      },
      "execution_count": null,
      "outputs": [
        {
          "output_type": "display_data",
          "data": {
            "text/plain": [
              "<IPython.core.display.HTML object>"
            ],
            "text/html": [
              "\n",
              "     <input type=\"file\" id=\"files-7544ee01-49cf-4829-9b4c-4cf6021893ab\" name=\"files[]\" multiple disabled\n",
              "        style=\"border:none\" />\n",
              "     <output id=\"result-7544ee01-49cf-4829-9b4c-4cf6021893ab\">\n",
              "      Upload widget is only available when the cell has been executed in the\n",
              "      current browser session. Please rerun this cell to enable.\n",
              "      </output>\n",
              "      <script>// Copyright 2017 Google LLC\n",
              "//\n",
              "// Licensed under the Apache License, Version 2.0 (the \"License\");\n",
              "// you may not use this file except in compliance with the License.\n",
              "// You may obtain a copy of the License at\n",
              "//\n",
              "//      http://www.apache.org/licenses/LICENSE-2.0\n",
              "//\n",
              "// Unless required by applicable law or agreed to in writing, software\n",
              "// distributed under the License is distributed on an \"AS IS\" BASIS,\n",
              "// WITHOUT WARRANTIES OR CONDITIONS OF ANY KIND, either express or implied.\n",
              "// See the License for the specific language governing permissions and\n",
              "// limitations under the License.\n",
              "\n",
              "/**\n",
              " * @fileoverview Helpers for google.colab Python module.\n",
              " */\n",
              "(function(scope) {\n",
              "function span(text, styleAttributes = {}) {\n",
              "  const element = document.createElement('span');\n",
              "  element.textContent = text;\n",
              "  for (const key of Object.keys(styleAttributes)) {\n",
              "    element.style[key] = styleAttributes[key];\n",
              "  }\n",
              "  return element;\n",
              "}\n",
              "\n",
              "// Max number of bytes which will be uploaded at a time.\n",
              "const MAX_PAYLOAD_SIZE = 100 * 1024;\n",
              "\n",
              "function _uploadFiles(inputId, outputId) {\n",
              "  const steps = uploadFilesStep(inputId, outputId);\n",
              "  const outputElement = document.getElementById(outputId);\n",
              "  // Cache steps on the outputElement to make it available for the next call\n",
              "  // to uploadFilesContinue from Python.\n",
              "  outputElement.steps = steps;\n",
              "\n",
              "  return _uploadFilesContinue(outputId);\n",
              "}\n",
              "\n",
              "// This is roughly an async generator (not supported in the browser yet),\n",
              "// where there are multiple asynchronous steps and the Python side is going\n",
              "// to poll for completion of each step.\n",
              "// This uses a Promise to block the python side on completion of each step,\n",
              "// then passes the result of the previous step as the input to the next step.\n",
              "function _uploadFilesContinue(outputId) {\n",
              "  const outputElement = document.getElementById(outputId);\n",
              "  const steps = outputElement.steps;\n",
              "\n",
              "  const next = steps.next(outputElement.lastPromiseValue);\n",
              "  return Promise.resolve(next.value.promise).then((value) => {\n",
              "    // Cache the last promise value to make it available to the next\n",
              "    // step of the generator.\n",
              "    outputElement.lastPromiseValue = value;\n",
              "    return next.value.response;\n",
              "  });\n",
              "}\n",
              "\n",
              "/**\n",
              " * Generator function which is called between each async step of the upload\n",
              " * process.\n",
              " * @param {string} inputId Element ID of the input file picker element.\n",
              " * @param {string} outputId Element ID of the output display.\n",
              " * @return {!Iterable<!Object>} Iterable of next steps.\n",
              " */\n",
              "function* uploadFilesStep(inputId, outputId) {\n",
              "  const inputElement = document.getElementById(inputId);\n",
              "  inputElement.disabled = false;\n",
              "\n",
              "  const outputElement = document.getElementById(outputId);\n",
              "  outputElement.innerHTML = '';\n",
              "\n",
              "  const pickedPromise = new Promise((resolve) => {\n",
              "    inputElement.addEventListener('change', (e) => {\n",
              "      resolve(e.target.files);\n",
              "    });\n",
              "  });\n",
              "\n",
              "  const cancel = document.createElement('button');\n",
              "  inputElement.parentElement.appendChild(cancel);\n",
              "  cancel.textContent = 'Cancel upload';\n",
              "  const cancelPromise = new Promise((resolve) => {\n",
              "    cancel.onclick = () => {\n",
              "      resolve(null);\n",
              "    };\n",
              "  });\n",
              "\n",
              "  // Wait for the user to pick the files.\n",
              "  const files = yield {\n",
              "    promise: Promise.race([pickedPromise, cancelPromise]),\n",
              "    response: {\n",
              "      action: 'starting',\n",
              "    }\n",
              "  };\n",
              "\n",
              "  cancel.remove();\n",
              "\n",
              "  // Disable the input element since further picks are not allowed.\n",
              "  inputElement.disabled = true;\n",
              "\n",
              "  if (!files) {\n",
              "    return {\n",
              "      response: {\n",
              "        action: 'complete',\n",
              "      }\n",
              "    };\n",
              "  }\n",
              "\n",
              "  for (const file of files) {\n",
              "    const li = document.createElement('li');\n",
              "    li.append(span(file.name, {fontWeight: 'bold'}));\n",
              "    li.append(span(\n",
              "        `(${file.type || 'n/a'}) - ${file.size} bytes, ` +\n",
              "        `last modified: ${\n",
              "            file.lastModifiedDate ? file.lastModifiedDate.toLocaleDateString() :\n",
              "                                    'n/a'} - `));\n",
              "    const percent = span('0% done');\n",
              "    li.appendChild(percent);\n",
              "\n",
              "    outputElement.appendChild(li);\n",
              "\n",
              "    const fileDataPromise = new Promise((resolve) => {\n",
              "      const reader = new FileReader();\n",
              "      reader.onload = (e) => {\n",
              "        resolve(e.target.result);\n",
              "      };\n",
              "      reader.readAsArrayBuffer(file);\n",
              "    });\n",
              "    // Wait for the data to be ready.\n",
              "    let fileData = yield {\n",
              "      promise: fileDataPromise,\n",
              "      response: {\n",
              "        action: 'continue',\n",
              "      }\n",
              "    };\n",
              "\n",
              "    // Use a chunked sending to avoid message size limits. See b/62115660.\n",
              "    let position = 0;\n",
              "    do {\n",
              "      const length = Math.min(fileData.byteLength - position, MAX_PAYLOAD_SIZE);\n",
              "      const chunk = new Uint8Array(fileData, position, length);\n",
              "      position += length;\n",
              "\n",
              "      const base64 = btoa(String.fromCharCode.apply(null, chunk));\n",
              "      yield {\n",
              "        response: {\n",
              "          action: 'append',\n",
              "          file: file.name,\n",
              "          data: base64,\n",
              "        },\n",
              "      };\n",
              "\n",
              "      let percentDone = fileData.byteLength === 0 ?\n",
              "          100 :\n",
              "          Math.round((position / fileData.byteLength) * 100);\n",
              "      percent.textContent = `${percentDone}% done`;\n",
              "\n",
              "    } while (position < fileData.byteLength);\n",
              "  }\n",
              "\n",
              "  // All done.\n",
              "  yield {\n",
              "    response: {\n",
              "      action: 'complete',\n",
              "    }\n",
              "  };\n",
              "}\n",
              "\n",
              "scope.google = scope.google || {};\n",
              "scope.google.colab = scope.google.colab || {};\n",
              "scope.google.colab._files = {\n",
              "  _uploadFiles,\n",
              "  _uploadFilesContinue,\n",
              "};\n",
              "})(self);\n",
              "</script> "
            ]
          },
          "metadata": {}
        },
        {
          "output_type": "stream",
          "name": "stdout",
          "text": [
            "Saving corpse.jpeg to corpse.jpeg\n",
            "1/1 [==============================] - 1s 554ms/step\n",
            "[[0. 0. 0. 0. 1.]]\n"
          ]
        },
        {
          "output_type": "display_data",
          "data": {
            "text/plain": [
              "<Figure size 640x480 with 1 Axes>"
            ],
            "image/png": "[encoded data removed]"
          },
          "metadata": {}
        }
      ]
    },
    {
      "cell_type": "code",
      "source": [
        "model3.save('my_model')"
      ],
      "metadata": {
        "colab": {
          "base_uri": "https://localhost:8080/"
        },
        "outputId": "0534e0ba-451f-460b-ceaa-ef47003821ae",
        "id": "feyA1jGjRfC1"
      },
      "execution_count": null,
      "outputs": [
        {
          "output_type": "stream",
          "name": "stderr",
          "text": [
            "WARNING:absl:Found untraced functions such as _jit_compiled_convolution_op, _jit_compiled_convolution_op, _jit_compiled_convolution_op, _jit_compiled_convolution_op, _jit_compiled_convolution_op while saving (showing 5 of 13). These functions will not be directly callable after loading.\n"
          ]
        }
      ]
    },
    {
      "cell_type": "code",
      "source": [
        "!zip -r neckPain.zip my_model"
      ],
      "metadata": {
        "colab": {
          "base_uri": "https://localhost:8080/"
        },
        "outputId": "5df5cd4c-1200-4c32-a519-17990941f61a",
        "id": "ZYGECgOdRfC1"
      },
      "execution_count": null,
      "outputs": [
        {
          "output_type": "stream",
          "name": "stdout",
          "text": [
            "  adding: my_model/ (stored 0%)\n",
            "  adding: my_model/variables/ (stored 0%)\n",
            "  adding: my_model/variables/variables.index (deflated 71%)\n",
            "  adding: my_model/variables/variables.data-00000-of-00001 (deflated 7%)\n",
            "  adding: my_model/keras_metadata.pb (deflated 96%)\n",
            "  adding: my_model/saved_model.pb (deflated 91%)\n",
            "  adding: my_model/fingerprint.pb (stored 0%)\n",
            "  adding: my_model/assets/ (stored 0%)\n"
          ]
        }
      ]
    },
    {
      "cell_type": "code",
      "source": [
        "!cp neckPain.zip \"drive/MyDrive/Capstone Bangkit/Machine Learning/Imam/neckPain\""
      ],
      "metadata": {
        "id": "aLKDwvigRfC2"
      },
      "execution_count": null,
      "outputs": []
    },
    {
      "cell_type": "code",
      "source": [
        "model3.save('neckPain.h5')"
      ],
      "metadata": {
        "id": "ggvt-_oiRfC3"
      },
      "execution_count": null,
      "outputs": []
    },
    {
      "cell_type": "code",
      "source": [
        "!cp neckPain.h5 \"drive/MyDrive/Capstone Bangkit/Machine Learning/Imam/neckPain\""
      ],
      "metadata": {
        "id": "rWhB1oRuRfC4"
      },
      "execution_count": null,
      "outputs": []
    },
    {
      "cell_type": "code",
      "source": [
        "# Convert the model\n",
        "converter = tf.lite.TFLiteConverter.from_saved_model(\"my_model\") # path to the SavedModel directory\n",
        "tflite_model = converter.convert()\n",
        "\n",
        "# Save the model.\n",
        "with open('neckPain.tflite', 'wb') as f:\n",
        "  f.write(tflite_model)"
      ],
      "metadata": {
        "id": "GWCZchh4RfC4"
      },
      "execution_count": null,
      "outputs": []
    },
    {
      "cell_type": "code",
      "source": [
        "!cp neckPain.tflite \"drive/MyDrive/Capstone Bangkit/Machine Learning/Imam/neckPain\""
      ],
      "metadata": {
        "id": "LyLxekUARfC5"
      },
      "execution_count": null,
      "outputs": []
    }
  ],
  "metadata": {
    "colab": {
      "provenance": [],
      "gpuType": "T4",
      "collapsed_sections": [
        "mr_Ieq1DFjXj",
        "7c7ZsCg70_Ln",
        "_94jPd3jQi9A",
        "q9RniFTzRfCe"
      ]
    },
    "kernelspec": {
      "display_name": "Python 3",
      "name": "python3"
    },
    "language_info": {
      "name": "python"
    },
    "accelerator": "GPU"
  },
  "nbformat": 4,
  "nbformat_minor": 0
}